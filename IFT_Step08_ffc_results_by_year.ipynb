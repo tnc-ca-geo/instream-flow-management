{
 "cells": [
  {
   "cell_type": "code",
   "execution_count": 1,
   "metadata": {},
   "outputs": [],
   "source": [
    "import os\n",
    "import sys\n",
    "import pandas as pd\n",
    "import numpy as np\n",
    "import datetime as dt\n",
    "import plotly.express as px"
   ]
  },
  {
   "cell_type": "code",
   "execution_count": 12,
   "metadata": {},
   "outputs": [],
   "source": [
    "# Paths, input, and output file names\n",
    "\n",
    "outer_dir = os.path.abspath(os.path.join(os.getcwd() ,\"../..\"))\n",
    "path = os.path.join(outer_dir, 'IFT_files', 'IFT Results')\n",
    "\n",
    "version = 'V1_0_0'\n",
    "dry_pct = 1\n",
    "in_csv = os.path.join(path, 'Water_year_types_{}.csv'.format(version))\n",
    "in_ffc = os.path.join(path, 'ffc_results_long.csv')\n",
    "out_csv = os.path.join(path, 'ffc_dry_year_compare_{}pct_{}.csv'.format(int(dry_pct * 100), version))"
   ]
  },
  {
   "cell_type": "code",
   "execution_count": 14,
   "metadata": {},
   "outputs": [
    {
     "name": "stdout",
     "output_type": "stream",
     "text": [
      "130\n"
     ]
    },
    {
     "data": {
      "text/html": [
       "<div>\n",
       "<style scoped>\n",
       "    .dataframe tbody tr th:only-of-type {\n",
       "        vertical-align: middle;\n",
       "    }\n",
       "\n",
       "    .dataframe tbody tr th {\n",
       "        vertical-align: top;\n",
       "    }\n",
       "\n",
       "    .dataframe thead th {\n",
       "        text-align: right;\n",
       "    }\n",
       "</style>\n",
       "<table border=\"1\" class=\"dataframe\">\n",
       "  <thead>\n",
       "    <tr style=\"text-align: right;\">\n",
       "      <th></th>\n",
       "      <th>stream</th>\n",
       "      <th>water_year</th>\n",
       "      <th>wy_mean_flow_cfs</th>\n",
       "      <th>day_count</th>\n",
       "      <th>pct_rank</th>\n",
       "    </tr>\n",
       "  </thead>\n",
       "  <tbody>\n",
       "    <tr>\n",
       "      <th>0</th>\n",
       "      <td>indian</td>\n",
       "      <td>1951</td>\n",
       "      <td>80.799484</td>\n",
       "      <td>365</td>\n",
       "      <td>0.732394</td>\n",
       "    </tr>\n",
       "    <tr>\n",
       "      <th>1</th>\n",
       "      <td>indian</td>\n",
       "      <td>1952</td>\n",
       "      <td>97.464302</td>\n",
       "      <td>366</td>\n",
       "      <td>0.830986</td>\n",
       "    </tr>\n",
       "    <tr>\n",
       "      <th>2</th>\n",
       "      <td>indian</td>\n",
       "      <td>1953</td>\n",
       "      <td>78.676068</td>\n",
       "      <td>365</td>\n",
       "      <td>0.676056</td>\n",
       "    </tr>\n",
       "    <tr>\n",
       "      <th>3</th>\n",
       "      <td>indian</td>\n",
       "      <td>1954</td>\n",
       "      <td>67.919191</td>\n",
       "      <td>365</td>\n",
       "      <td>0.577465</td>\n",
       "    </tr>\n",
       "    <tr>\n",
       "      <th>4</th>\n",
       "      <td>indian</td>\n",
       "      <td>1955</td>\n",
       "      <td>32.950972</td>\n",
       "      <td>365</td>\n",
       "      <td>0.253521</td>\n",
       "    </tr>\n",
       "  </tbody>\n",
       "</table>\n",
       "</div>"
      ],
      "text/plain": [
       "   stream  water_year  wy_mean_flow_cfs  day_count  pct_rank\n",
       "0  indian        1951         80.799484        365  0.732394\n",
       "1  indian        1952         97.464302        366  0.830986\n",
       "2  indian        1953         78.676068        365  0.676056\n",
       "3  indian        1954         67.919191        365  0.577465\n",
       "4  indian        1955         32.950972        365  0.253521"
      ]
     },
     "execution_count": 14,
     "metadata": {},
     "output_type": "execute_result"
    }
   ],
   "source": [
    "# Import data\n",
    "df = pd.read_csv(in_csv)\n",
    "print(len(df))\n",
    "df.head()\n"
   ]
  },
  {
   "cell_type": "code",
   "execution_count": 15,
   "metadata": {},
   "outputs": [
    {
     "name": "stdout",
     "output_type": "stream",
     "text": [
      "17280\n"
     ]
    },
    {
     "data": {
      "text/html": [
       "<div>\n",
       "<style scoped>\n",
       "    .dataframe tbody tr th:only-of-type {\n",
       "        vertical-align: middle;\n",
       "    }\n",
       "\n",
       "    .dataframe tbody tr th {\n",
       "        vertical-align: top;\n",
       "    }\n",
       "\n",
       "    .dataframe thead th {\n",
       "        text-align: right;\n",
       "    }\n",
       "</style>\n",
       "<table border=\"1\" class=\"dataframe\">\n",
       "  <thead>\n",
       "    <tr style=\"text-align: right;\">\n",
       "      <th></th>\n",
       "      <th>water_year</th>\n",
       "      <th>stream</th>\n",
       "      <th>ift</th>\n",
       "      <th>ffm</th>\n",
       "      <th>value</th>\n",
       "    </tr>\n",
       "  </thead>\n",
       "  <tbody>\n",
       "    <tr>\n",
       "      <th>0</th>\n",
       "      <td>1951</td>\n",
       "      <td>indian</td>\n",
       "      <td>unimp</td>\n",
       "      <td>DS_Dur_WS</td>\n",
       "      <td>158.0</td>\n",
       "    </tr>\n",
       "    <tr>\n",
       "      <th>1</th>\n",
       "      <td>1952</td>\n",
       "      <td>indian</td>\n",
       "      <td>unimp</td>\n",
       "      <td>DS_Dur_WS</td>\n",
       "      <td>219.0</td>\n",
       "    </tr>\n",
       "    <tr>\n",
       "      <th>2</th>\n",
       "      <td>1953</td>\n",
       "      <td>indian</td>\n",
       "      <td>unimp</td>\n",
       "      <td>DS_Dur_WS</td>\n",
       "      <td>195.0</td>\n",
       "    </tr>\n",
       "    <tr>\n",
       "      <th>3</th>\n",
       "      <td>1954</td>\n",
       "      <td>indian</td>\n",
       "      <td>unimp</td>\n",
       "      <td>DS_Dur_WS</td>\n",
       "      <td>169.0</td>\n",
       "    </tr>\n",
       "    <tr>\n",
       "      <th>4</th>\n",
       "      <td>1955</td>\n",
       "      <td>indian</td>\n",
       "      <td>unimp</td>\n",
       "      <td>DS_Dur_WS</td>\n",
       "      <td>170.0</td>\n",
       "    </tr>\n",
       "  </tbody>\n",
       "</table>\n",
       "</div>"
      ],
      "text/plain": [
       "   water_year  stream    ift        ffm  value\n",
       "0        1951  indian  unimp  DS_Dur_WS  158.0\n",
       "1        1952  indian  unimp  DS_Dur_WS  219.0\n",
       "2        1953  indian  unimp  DS_Dur_WS  195.0\n",
       "3        1954  indian  unimp  DS_Dur_WS  169.0\n",
       "4        1955  indian  unimp  DS_Dur_WS  170.0"
      ]
     },
     "execution_count": 15,
     "metadata": {},
     "output_type": "execute_result"
    }
   ],
   "source": [
    "# Import data\n",
    "df1 = pd.read_csv(in_ffc)\n",
    "df1.rename(columns={'Year': 'water_year'}, inplace=True)\n",
    "print(len(df1))\n",
    "df1.head()"
   ]
  },
  {
   "cell_type": "code",
   "execution_count": 16,
   "metadata": {},
   "outputs": [
    {
     "data": {
      "text/html": [
       "<div>\n",
       "<style scoped>\n",
       "    .dataframe tbody tr th:only-of-type {\n",
       "        vertical-align: middle;\n",
       "    }\n",
       "\n",
       "    .dataframe tbody tr th {\n",
       "        vertical-align: top;\n",
       "    }\n",
       "\n",
       "    .dataframe thead th {\n",
       "        text-align: right;\n",
       "    }\n",
       "</style>\n",
       "<table border=\"1\" class=\"dataframe\">\n",
       "  <thead>\n",
       "    <tr style=\"text-align: right;\">\n",
       "      <th></th>\n",
       "      <th>water_year</th>\n",
       "      <th>stream</th>\n",
       "      <th>ift</th>\n",
       "      <th>ffm</th>\n",
       "      <th>value</th>\n",
       "      <th>wy_mean_flow_cfs</th>\n",
       "      <th>day_count</th>\n",
       "      <th>pct_rank</th>\n",
       "    </tr>\n",
       "  </thead>\n",
       "  <tbody>\n",
       "    <tr>\n",
       "      <th>0</th>\n",
       "      <td>1951</td>\n",
       "      <td>indian</td>\n",
       "      <td>unimp</td>\n",
       "      <td>DS_Dur_WS</td>\n",
       "      <td>158.0</td>\n",
       "      <td>80.799484</td>\n",
       "      <td>365</td>\n",
       "      <td>0.732394</td>\n",
       "    </tr>\n",
       "    <tr>\n",
       "      <th>1</th>\n",
       "      <td>1952</td>\n",
       "      <td>indian</td>\n",
       "      <td>unimp</td>\n",
       "      <td>DS_Dur_WS</td>\n",
       "      <td>219.0</td>\n",
       "      <td>97.464302</td>\n",
       "      <td>366</td>\n",
       "      <td>0.830986</td>\n",
       "    </tr>\n",
       "    <tr>\n",
       "      <th>2</th>\n",
       "      <td>1953</td>\n",
       "      <td>indian</td>\n",
       "      <td>unimp</td>\n",
       "      <td>DS_Dur_WS</td>\n",
       "      <td>195.0</td>\n",
       "      <td>78.676068</td>\n",
       "      <td>365</td>\n",
       "      <td>0.676056</td>\n",
       "    </tr>\n",
       "    <tr>\n",
       "      <th>3</th>\n",
       "      <td>1954</td>\n",
       "      <td>indian</td>\n",
       "      <td>unimp</td>\n",
       "      <td>DS_Dur_WS</td>\n",
       "      <td>169.0</td>\n",
       "      <td>67.919191</td>\n",
       "      <td>365</td>\n",
       "      <td>0.577465</td>\n",
       "    </tr>\n",
       "    <tr>\n",
       "      <th>4</th>\n",
       "      <td>1955</td>\n",
       "      <td>indian</td>\n",
       "      <td>unimp</td>\n",
       "      <td>DS_Dur_WS</td>\n",
       "      <td>170.0</td>\n",
       "      <td>32.950972</td>\n",
       "      <td>365</td>\n",
       "      <td>0.253521</td>\n",
       "    </tr>\n",
       "  </tbody>\n",
       "</table>\n",
       "</div>"
      ],
      "text/plain": [
       "   water_year  stream    ift        ffm  value  wy_mean_flow_cfs  day_count  \\\n",
       "0        1951  indian  unimp  DS_Dur_WS  158.0         80.799484        365   \n",
       "1        1952  indian  unimp  DS_Dur_WS  219.0         97.464302        366   \n",
       "2        1953  indian  unimp  DS_Dur_WS  195.0         78.676068        365   \n",
       "3        1954  indian  unimp  DS_Dur_WS  169.0         67.919191        365   \n",
       "4        1955  indian  unimp  DS_Dur_WS  170.0         32.950972        365   \n",
       "\n",
       "   pct_rank  \n",
       "0  0.732394  \n",
       "1  0.830986  \n",
       "2  0.676056  \n",
       "3  0.577465  \n",
       "4  0.253521  "
      ]
     },
     "execution_count": 16,
     "metadata": {},
     "output_type": "execute_result"
    }
   ],
   "source": [
    "df2 = pd.merge(df1, df, on=['stream', 'water_year'], how='left')\n",
    "df2.head()"
   ]
  },
  {
   "cell_type": "code",
   "execution_count": 17,
   "metadata": {
    "scrolled": true
   },
   "outputs": [],
   "source": [
    "df3 = df2.loc[df2.pct_rank <= dry_pct]\n",
    "df4 = (df3.groupby(['stream', 'ift', 'ffm'])\n",
    "           .agg({'value':'mean'})\n",
    "           .reset_index()\n",
    "           .rename(columns={'value':'dry_val_mean'})\n",
    "          )\n",
    "df4 = df4.sort_values(by=['stream','ift'], ascending=[True,False])"
   ]
  },
  {
   "cell_type": "code",
   "execution_count": 18,
   "metadata": {
    "scrolled": false
   },
   "outputs": [
    {
     "data": {
      "application/vnd.plotly.v1+json": {
       "config": {
        "plotlyServerURL": "https://plot.ly"
       },
       "data": [
        {
         "alignmentgroup": "True",
         "hoverlabel": {
          "namelength": 0
         },
         "hovertemplate": "ift=%{x}<br>dry_val_mean=%{y}",
         "legendgroup": "",
         "marker": {
          "color": "#636efa"
         },
         "name": "",
         "offsetgroup": "",
         "orientation": "v",
         "showlegend": false,
         "textposition": "auto",
         "type": "bar",
         "x": [
          "unimp",
          "tessman",
          "ncifp",
          "mpof",
          "mmpof"
         ],
         "xaxis": "x",
         "y": [
          11.655801142857145,
          4.499565714285711,
          12.23681200000001,
          11.33460057142858,
          11.30847571428572
         ],
         "yaxis": "y"
        }
       ],
       "layout": {
        "barmode": "relative",
        "legend": {
         "tracegroupgap": 0
        },
        "template": {
         "data": {
          "bar": [
           {
            "error_x": {
             "color": "#2a3f5f"
            },
            "error_y": {
             "color": "#2a3f5f"
            },
            "marker": {
             "line": {
              "color": "#E5ECF6",
              "width": 0.5
             }
            },
            "type": "bar"
           }
          ],
          "barpolar": [
           {
            "marker": {
             "line": {
              "color": "#E5ECF6",
              "width": 0.5
             }
            },
            "type": "barpolar"
           }
          ],
          "carpet": [
           {
            "aaxis": {
             "endlinecolor": "#2a3f5f",
             "gridcolor": "white",
             "linecolor": "white",
             "minorgridcolor": "white",
             "startlinecolor": "#2a3f5f"
            },
            "baxis": {
             "endlinecolor": "#2a3f5f",
             "gridcolor": "white",
             "linecolor": "white",
             "minorgridcolor": "white",
             "startlinecolor": "#2a3f5f"
            },
            "type": "carpet"
           }
          ],
          "choropleth": [
           {
            "colorbar": {
             "outlinewidth": 0,
             "ticks": ""
            },
            "type": "choropleth"
           }
          ],
          "contour": [
           {
            "colorbar": {
             "outlinewidth": 0,
             "ticks": ""
            },
            "colorscale": [
             [
              0,
              "#0d0887"
             ],
             [
              0.1111111111111111,
              "#46039f"
             ],
             [
              0.2222222222222222,
              "#7201a8"
             ],
             [
              0.3333333333333333,
              "#9c179e"
             ],
             [
              0.4444444444444444,
              "#bd3786"
             ],
             [
              0.5555555555555556,
              "#d8576b"
             ],
             [
              0.6666666666666666,
              "#ed7953"
             ],
             [
              0.7777777777777778,
              "#fb9f3a"
             ],
             [
              0.8888888888888888,
              "#fdca26"
             ],
             [
              1,
              "#f0f921"
             ]
            ],
            "type": "contour"
           }
          ],
          "contourcarpet": [
           {
            "colorbar": {
             "outlinewidth": 0,
             "ticks": ""
            },
            "type": "contourcarpet"
           }
          ],
          "heatmap": [
           {
            "colorbar": {
             "outlinewidth": 0,
             "ticks": ""
            },
            "colorscale": [
             [
              0,
              "#0d0887"
             ],
             [
              0.1111111111111111,
              "#46039f"
             ],
             [
              0.2222222222222222,
              "#7201a8"
             ],
             [
              0.3333333333333333,
              "#9c179e"
             ],
             [
              0.4444444444444444,
              "#bd3786"
             ],
             [
              0.5555555555555556,
              "#d8576b"
             ],
             [
              0.6666666666666666,
              "#ed7953"
             ],
             [
              0.7777777777777778,
              "#fb9f3a"
             ],
             [
              0.8888888888888888,
              "#fdca26"
             ],
             [
              1,
              "#f0f921"
             ]
            ],
            "type": "heatmap"
           }
          ],
          "heatmapgl": [
           {
            "colorbar": {
             "outlinewidth": 0,
             "ticks": ""
            },
            "colorscale": [
             [
              0,
              "#0d0887"
             ],
             [
              0.1111111111111111,
              "#46039f"
             ],
             [
              0.2222222222222222,
              "#7201a8"
             ],
             [
              0.3333333333333333,
              "#9c179e"
             ],
             [
              0.4444444444444444,
              "#bd3786"
             ],
             [
              0.5555555555555556,
              "#d8576b"
             ],
             [
              0.6666666666666666,
              "#ed7953"
             ],
             [
              0.7777777777777778,
              "#fb9f3a"
             ],
             [
              0.8888888888888888,
              "#fdca26"
             ],
             [
              1,
              "#f0f921"
             ]
            ],
            "type": "heatmapgl"
           }
          ],
          "histogram": [
           {
            "marker": {
             "colorbar": {
              "outlinewidth": 0,
              "ticks": ""
             }
            },
            "type": "histogram"
           }
          ],
          "histogram2d": [
           {
            "colorbar": {
             "outlinewidth": 0,
             "ticks": ""
            },
            "colorscale": [
             [
              0,
              "#0d0887"
             ],
             [
              0.1111111111111111,
              "#46039f"
             ],
             [
              0.2222222222222222,
              "#7201a8"
             ],
             [
              0.3333333333333333,
              "#9c179e"
             ],
             [
              0.4444444444444444,
              "#bd3786"
             ],
             [
              0.5555555555555556,
              "#d8576b"
             ],
             [
              0.6666666666666666,
              "#ed7953"
             ],
             [
              0.7777777777777778,
              "#fb9f3a"
             ],
             [
              0.8888888888888888,
              "#fdca26"
             ],
             [
              1,
              "#f0f921"
             ]
            ],
            "type": "histogram2d"
           }
          ],
          "histogram2dcontour": [
           {
            "colorbar": {
             "outlinewidth": 0,
             "ticks": ""
            },
            "colorscale": [
             [
              0,
              "#0d0887"
             ],
             [
              0.1111111111111111,
              "#46039f"
             ],
             [
              0.2222222222222222,
              "#7201a8"
             ],
             [
              0.3333333333333333,
              "#9c179e"
             ],
             [
              0.4444444444444444,
              "#bd3786"
             ],
             [
              0.5555555555555556,
              "#d8576b"
             ],
             [
              0.6666666666666666,
              "#ed7953"
             ],
             [
              0.7777777777777778,
              "#fb9f3a"
             ],
             [
              0.8888888888888888,
              "#fdca26"
             ],
             [
              1,
              "#f0f921"
             ]
            ],
            "type": "histogram2dcontour"
           }
          ],
          "mesh3d": [
           {
            "colorbar": {
             "outlinewidth": 0,
             "ticks": ""
            },
            "type": "mesh3d"
           }
          ],
          "parcoords": [
           {
            "line": {
             "colorbar": {
              "outlinewidth": 0,
              "ticks": ""
             }
            },
            "type": "parcoords"
           }
          ],
          "pie": [
           {
            "automargin": true,
            "type": "pie"
           }
          ],
          "scatter": [
           {
            "marker": {
             "colorbar": {
              "outlinewidth": 0,
              "ticks": ""
             }
            },
            "type": "scatter"
           }
          ],
          "scatter3d": [
           {
            "line": {
             "colorbar": {
              "outlinewidth": 0,
              "ticks": ""
             }
            },
            "marker": {
             "colorbar": {
              "outlinewidth": 0,
              "ticks": ""
             }
            },
            "type": "scatter3d"
           }
          ],
          "scattercarpet": [
           {
            "marker": {
             "colorbar": {
              "outlinewidth": 0,
              "ticks": ""
             }
            },
            "type": "scattercarpet"
           }
          ],
          "scattergeo": [
           {
            "marker": {
             "colorbar": {
              "outlinewidth": 0,
              "ticks": ""
             }
            },
            "type": "scattergeo"
           }
          ],
          "scattergl": [
           {
            "marker": {
             "colorbar": {
              "outlinewidth": 0,
              "ticks": ""
             }
            },
            "type": "scattergl"
           }
          ],
          "scattermapbox": [
           {
            "marker": {
             "colorbar": {
              "outlinewidth": 0,
              "ticks": ""
             }
            },
            "type": "scattermapbox"
           }
          ],
          "scatterpolar": [
           {
            "marker": {
             "colorbar": {
              "outlinewidth": 0,
              "ticks": ""
             }
            },
            "type": "scatterpolar"
           }
          ],
          "scatterpolargl": [
           {
            "marker": {
             "colorbar": {
              "outlinewidth": 0,
              "ticks": ""
             }
            },
            "type": "scatterpolargl"
           }
          ],
          "scatterternary": [
           {
            "marker": {
             "colorbar": {
              "outlinewidth": 0,
              "ticks": ""
             }
            },
            "type": "scatterternary"
           }
          ],
          "surface": [
           {
            "colorbar": {
             "outlinewidth": 0,
             "ticks": ""
            },
            "colorscale": [
             [
              0,
              "#0d0887"
             ],
             [
              0.1111111111111111,
              "#46039f"
             ],
             [
              0.2222222222222222,
              "#7201a8"
             ],
             [
              0.3333333333333333,
              "#9c179e"
             ],
             [
              0.4444444444444444,
              "#bd3786"
             ],
             [
              0.5555555555555556,
              "#d8576b"
             ],
             [
              0.6666666666666666,
              "#ed7953"
             ],
             [
              0.7777777777777778,
              "#fb9f3a"
             ],
             [
              0.8888888888888888,
              "#fdca26"
             ],
             [
              1,
              "#f0f921"
             ]
            ],
            "type": "surface"
           }
          ],
          "table": [
           {
            "cells": {
             "fill": {
              "color": "#EBF0F8"
             },
             "line": {
              "color": "white"
             }
            },
            "header": {
             "fill": {
              "color": "#C8D4E3"
             },
             "line": {
              "color": "white"
             }
            },
            "type": "table"
           }
          ]
         },
         "layout": {
          "annotationdefaults": {
           "arrowcolor": "#2a3f5f",
           "arrowhead": 0,
           "arrowwidth": 1
          },
          "coloraxis": {
           "colorbar": {
            "outlinewidth": 0,
            "ticks": ""
           }
          },
          "colorscale": {
           "diverging": [
            [
             0,
             "#8e0152"
            ],
            [
             0.1,
             "#c51b7d"
            ],
            [
             0.2,
             "#de77ae"
            ],
            [
             0.3,
             "#f1b6da"
            ],
            [
             0.4,
             "#fde0ef"
            ],
            [
             0.5,
             "#f7f7f7"
            ],
            [
             0.6,
             "#e6f5d0"
            ],
            [
             0.7,
             "#b8e186"
            ],
            [
             0.8,
             "#7fbc41"
            ],
            [
             0.9,
             "#4d9221"
            ],
            [
             1,
             "#276419"
            ]
           ],
           "sequential": [
            [
             0,
             "#0d0887"
            ],
            [
             0.1111111111111111,
             "#46039f"
            ],
            [
             0.2222222222222222,
             "#7201a8"
            ],
            [
             0.3333333333333333,
             "#9c179e"
            ],
            [
             0.4444444444444444,
             "#bd3786"
            ],
            [
             0.5555555555555556,
             "#d8576b"
            ],
            [
             0.6666666666666666,
             "#ed7953"
            ],
            [
             0.7777777777777778,
             "#fb9f3a"
            ],
            [
             0.8888888888888888,
             "#fdca26"
            ],
            [
             1,
             "#f0f921"
            ]
           ],
           "sequentialminus": [
            [
             0,
             "#0d0887"
            ],
            [
             0.1111111111111111,
             "#46039f"
            ],
            [
             0.2222222222222222,
             "#7201a8"
            ],
            [
             0.3333333333333333,
             "#9c179e"
            ],
            [
             0.4444444444444444,
             "#bd3786"
            ],
            [
             0.5555555555555556,
             "#d8576b"
            ],
            [
             0.6666666666666666,
             "#ed7953"
            ],
            [
             0.7777777777777778,
             "#fb9f3a"
            ],
            [
             0.8888888888888888,
             "#fdca26"
            ],
            [
             1,
             "#f0f921"
            ]
           ]
          },
          "colorway": [
           "#636efa",
           "#EF553B",
           "#00cc96",
           "#ab63fa",
           "#FFA15A",
           "#19d3f3",
           "#FF6692",
           "#B6E880",
           "#FF97FF",
           "#FECB52"
          ],
          "font": {
           "color": "#2a3f5f"
          },
          "geo": {
           "bgcolor": "white",
           "lakecolor": "white",
           "landcolor": "#E5ECF6",
           "showlakes": true,
           "showland": true,
           "subunitcolor": "white"
          },
          "hoverlabel": {
           "align": "left"
          },
          "hovermode": "closest",
          "mapbox": {
           "style": "light"
          },
          "paper_bgcolor": "white",
          "plot_bgcolor": "#E5ECF6",
          "polar": {
           "angularaxis": {
            "gridcolor": "white",
            "linecolor": "white",
            "ticks": ""
           },
           "bgcolor": "#E5ECF6",
           "radialaxis": {
            "gridcolor": "white",
            "linecolor": "white",
            "ticks": ""
           }
          },
          "scene": {
           "xaxis": {
            "backgroundcolor": "#E5ECF6",
            "gridcolor": "white",
            "gridwidth": 2,
            "linecolor": "white",
            "showbackground": true,
            "ticks": "",
            "zerolinecolor": "white"
           },
           "yaxis": {
            "backgroundcolor": "#E5ECF6",
            "gridcolor": "white",
            "gridwidth": 2,
            "linecolor": "white",
            "showbackground": true,
            "ticks": "",
            "zerolinecolor": "white"
           },
           "zaxis": {
            "backgroundcolor": "#E5ECF6",
            "gridcolor": "white",
            "gridwidth": 2,
            "linecolor": "white",
            "showbackground": true,
            "ticks": "",
            "zerolinecolor": "white"
           }
          },
          "shapedefaults": {
           "line": {
            "color": "#2a3f5f"
           }
          },
          "ternary": {
           "aaxis": {
            "gridcolor": "white",
            "linecolor": "white",
            "ticks": ""
           },
           "baxis": {
            "gridcolor": "white",
            "linecolor": "white",
            "ticks": ""
           },
           "bgcolor": "#E5ECF6",
           "caxis": {
            "gridcolor": "white",
            "linecolor": "white",
            "ticks": ""
           }
          },
          "title": {
           "x": 0.05
          },
          "xaxis": {
           "automargin": true,
           "gridcolor": "white",
           "linecolor": "white",
           "ticks": "",
           "title": {
            "standoff": 15
           },
           "zerolinecolor": "white",
           "zerolinewidth": 2
          },
          "yaxis": {
           "automargin": true,
           "gridcolor": "white",
           "linecolor": "white",
           "ticks": "",
           "title": {
            "standoff": 15
           },
           "zerolinecolor": "white",
           "zerolinewidth": 2
          }
         }
        },
        "title": {
         "text": "Dry year average for indian for ffm DS_Mag_90"
        },
        "xaxis": {
         "anchor": "y",
         "domain": [
          0,
          1
         ],
         "title": {
          "text": "ift"
         }
        },
        "yaxis": {
         "anchor": "x",
         "domain": [
          0,
          1
         ],
         "title": {
          "text": "dry_val_mean"
         }
        }
       }
      },
      "text/html": [
       "<div>\n",
       "        \n",
       "        \n",
       "            <div id=\"cf9bd2d2-b61d-4a95-af03-d31136b5cbe0\" class=\"plotly-graph-div\" style=\"height:525px; width:100%;\"></div>\n",
       "            <script type=\"text/javascript\">\n",
       "                require([\"plotly\"], function(Plotly) {\n",
       "                    window.PLOTLYENV=window.PLOTLYENV || {};\n",
       "                    \n",
       "                if (document.getElementById(\"cf9bd2d2-b61d-4a95-af03-d31136b5cbe0\")) {\n",
       "                    Plotly.newPlot(\n",
       "                        'cf9bd2d2-b61d-4a95-af03-d31136b5cbe0',\n",
       "                        [{\"alignmentgroup\": \"True\", \"hoverlabel\": {\"namelength\": 0}, \"hovertemplate\": \"ift=%{x}<br>dry_val_mean=%{y}\", \"legendgroup\": \"\", \"marker\": {\"color\": \"#636efa\"}, \"name\": \"\", \"offsetgroup\": \"\", \"orientation\": \"v\", \"showlegend\": false, \"textposition\": \"auto\", \"type\": \"bar\", \"x\": [\"unimp\", \"tessman\", \"ncifp\", \"mpof\", \"mmpof\"], \"xaxis\": \"x\", \"y\": [11.655801142857145, 4.499565714285711, 12.23681200000001, 11.33460057142858, 11.30847571428572], \"yaxis\": \"y\"}],\n",
       "                        {\"barmode\": \"relative\", \"legend\": {\"tracegroupgap\": 0}, \"template\": {\"data\": {\"bar\": [{\"error_x\": {\"color\": \"#2a3f5f\"}, \"error_y\": {\"color\": \"#2a3f5f\"}, \"marker\": {\"line\": {\"color\": \"#E5ECF6\", \"width\": 0.5}}, \"type\": \"bar\"}], \"barpolar\": [{\"marker\": {\"line\": {\"color\": \"#E5ECF6\", \"width\": 0.5}}, \"type\": \"barpolar\"}], \"carpet\": [{\"aaxis\": {\"endlinecolor\": \"#2a3f5f\", \"gridcolor\": \"white\", \"linecolor\": \"white\", \"minorgridcolor\": \"white\", \"startlinecolor\": \"#2a3f5f\"}, \"baxis\": {\"endlinecolor\": \"#2a3f5f\", \"gridcolor\": \"white\", \"linecolor\": \"white\", \"minorgridcolor\": \"white\", \"startlinecolor\": \"#2a3f5f\"}, \"type\": \"carpet\"}], \"choropleth\": [{\"colorbar\": {\"outlinewidth\": 0, \"ticks\": \"\"}, \"type\": \"choropleth\"}], \"contour\": [{\"colorbar\": {\"outlinewidth\": 0, \"ticks\": \"\"}, \"colorscale\": [[0.0, \"#0d0887\"], [0.1111111111111111, \"#46039f\"], [0.2222222222222222, \"#7201a8\"], [0.3333333333333333, \"#9c179e\"], [0.4444444444444444, \"#bd3786\"], [0.5555555555555556, \"#d8576b\"], [0.6666666666666666, \"#ed7953\"], [0.7777777777777778, \"#fb9f3a\"], [0.8888888888888888, \"#fdca26\"], [1.0, \"#f0f921\"]], \"type\": \"contour\"}], \"contourcarpet\": [{\"colorbar\": {\"outlinewidth\": 0, \"ticks\": \"\"}, \"type\": \"contourcarpet\"}], \"heatmap\": [{\"colorbar\": {\"outlinewidth\": 0, \"ticks\": \"\"}, \"colorscale\": [[0.0, \"#0d0887\"], [0.1111111111111111, \"#46039f\"], [0.2222222222222222, \"#7201a8\"], [0.3333333333333333, \"#9c179e\"], [0.4444444444444444, \"#bd3786\"], [0.5555555555555556, \"#d8576b\"], [0.6666666666666666, \"#ed7953\"], [0.7777777777777778, \"#fb9f3a\"], [0.8888888888888888, \"#fdca26\"], [1.0, \"#f0f921\"]], \"type\": \"heatmap\"}], \"heatmapgl\": [{\"colorbar\": {\"outlinewidth\": 0, \"ticks\": \"\"}, \"colorscale\": [[0.0, \"#0d0887\"], [0.1111111111111111, \"#46039f\"], [0.2222222222222222, \"#7201a8\"], [0.3333333333333333, \"#9c179e\"], [0.4444444444444444, \"#bd3786\"], [0.5555555555555556, \"#d8576b\"], [0.6666666666666666, \"#ed7953\"], [0.7777777777777778, \"#fb9f3a\"], [0.8888888888888888, \"#fdca26\"], [1.0, \"#f0f921\"]], \"type\": \"heatmapgl\"}], \"histogram\": [{\"marker\": {\"colorbar\": {\"outlinewidth\": 0, \"ticks\": \"\"}}, \"type\": \"histogram\"}], \"histogram2d\": [{\"colorbar\": {\"outlinewidth\": 0, \"ticks\": \"\"}, \"colorscale\": [[0.0, \"#0d0887\"], [0.1111111111111111, \"#46039f\"], [0.2222222222222222, \"#7201a8\"], [0.3333333333333333, \"#9c179e\"], [0.4444444444444444, \"#bd3786\"], [0.5555555555555556, \"#d8576b\"], [0.6666666666666666, \"#ed7953\"], [0.7777777777777778, \"#fb9f3a\"], [0.8888888888888888, \"#fdca26\"], [1.0, \"#f0f921\"]], \"type\": \"histogram2d\"}], \"histogram2dcontour\": [{\"colorbar\": {\"outlinewidth\": 0, \"ticks\": \"\"}, \"colorscale\": [[0.0, \"#0d0887\"], [0.1111111111111111, \"#46039f\"], [0.2222222222222222, \"#7201a8\"], [0.3333333333333333, \"#9c179e\"], [0.4444444444444444, \"#bd3786\"], [0.5555555555555556, \"#d8576b\"], [0.6666666666666666, \"#ed7953\"], [0.7777777777777778, \"#fb9f3a\"], [0.8888888888888888, \"#fdca26\"], [1.0, \"#f0f921\"]], \"type\": \"histogram2dcontour\"}], \"mesh3d\": [{\"colorbar\": {\"outlinewidth\": 0, \"ticks\": \"\"}, \"type\": \"mesh3d\"}], \"parcoords\": [{\"line\": {\"colorbar\": {\"outlinewidth\": 0, \"ticks\": \"\"}}, \"type\": \"parcoords\"}], \"pie\": [{\"automargin\": true, \"type\": \"pie\"}], \"scatter\": [{\"marker\": {\"colorbar\": {\"outlinewidth\": 0, \"ticks\": \"\"}}, \"type\": \"scatter\"}], \"scatter3d\": [{\"line\": {\"colorbar\": {\"outlinewidth\": 0, \"ticks\": \"\"}}, \"marker\": {\"colorbar\": {\"outlinewidth\": 0, \"ticks\": \"\"}}, \"type\": \"scatter3d\"}], \"scattercarpet\": [{\"marker\": {\"colorbar\": {\"outlinewidth\": 0, \"ticks\": \"\"}}, \"type\": \"scattercarpet\"}], \"scattergeo\": [{\"marker\": {\"colorbar\": {\"outlinewidth\": 0, \"ticks\": \"\"}}, \"type\": \"scattergeo\"}], \"scattergl\": [{\"marker\": {\"colorbar\": {\"outlinewidth\": 0, \"ticks\": \"\"}}, \"type\": \"scattergl\"}], \"scattermapbox\": [{\"marker\": {\"colorbar\": {\"outlinewidth\": 0, \"ticks\": \"\"}}, \"type\": \"scattermapbox\"}], \"scatterpolar\": [{\"marker\": {\"colorbar\": {\"outlinewidth\": 0, \"ticks\": \"\"}}, \"type\": \"scatterpolar\"}], \"scatterpolargl\": [{\"marker\": {\"colorbar\": {\"outlinewidth\": 0, \"ticks\": \"\"}}, \"type\": \"scatterpolargl\"}], \"scatterternary\": [{\"marker\": {\"colorbar\": {\"outlinewidth\": 0, \"ticks\": \"\"}}, \"type\": \"scatterternary\"}], \"surface\": [{\"colorbar\": {\"outlinewidth\": 0, \"ticks\": \"\"}, \"colorscale\": [[0.0, \"#0d0887\"], [0.1111111111111111, \"#46039f\"], [0.2222222222222222, \"#7201a8\"], [0.3333333333333333, \"#9c179e\"], [0.4444444444444444, \"#bd3786\"], [0.5555555555555556, \"#d8576b\"], [0.6666666666666666, \"#ed7953\"], [0.7777777777777778, \"#fb9f3a\"], [0.8888888888888888, \"#fdca26\"], [1.0, \"#f0f921\"]], \"type\": \"surface\"}], \"table\": [{\"cells\": {\"fill\": {\"color\": \"#EBF0F8\"}, \"line\": {\"color\": \"white\"}}, \"header\": {\"fill\": {\"color\": \"#C8D4E3\"}, \"line\": {\"color\": \"white\"}}, \"type\": \"table\"}]}, \"layout\": {\"annotationdefaults\": {\"arrowcolor\": \"#2a3f5f\", \"arrowhead\": 0, \"arrowwidth\": 1}, \"coloraxis\": {\"colorbar\": {\"outlinewidth\": 0, \"ticks\": \"\"}}, \"colorscale\": {\"diverging\": [[0, \"#8e0152\"], [0.1, \"#c51b7d\"], [0.2, \"#de77ae\"], [0.3, \"#f1b6da\"], [0.4, \"#fde0ef\"], [0.5, \"#f7f7f7\"], [0.6, \"#e6f5d0\"], [0.7, \"#b8e186\"], [0.8, \"#7fbc41\"], [0.9, \"#4d9221\"], [1, \"#276419\"]], \"sequential\": [[0.0, \"#0d0887\"], [0.1111111111111111, \"#46039f\"], [0.2222222222222222, \"#7201a8\"], [0.3333333333333333, \"#9c179e\"], [0.4444444444444444, \"#bd3786\"], [0.5555555555555556, \"#d8576b\"], [0.6666666666666666, \"#ed7953\"], [0.7777777777777778, \"#fb9f3a\"], [0.8888888888888888, \"#fdca26\"], [1.0, \"#f0f921\"]], \"sequentialminus\": [[0.0, \"#0d0887\"], [0.1111111111111111, \"#46039f\"], [0.2222222222222222, \"#7201a8\"], [0.3333333333333333, \"#9c179e\"], [0.4444444444444444, \"#bd3786\"], [0.5555555555555556, \"#d8576b\"], [0.6666666666666666, \"#ed7953\"], [0.7777777777777778, \"#fb9f3a\"], [0.8888888888888888, \"#fdca26\"], [1.0, \"#f0f921\"]]}, \"colorway\": [\"#636efa\", \"#EF553B\", \"#00cc96\", \"#ab63fa\", \"#FFA15A\", \"#19d3f3\", \"#FF6692\", \"#B6E880\", \"#FF97FF\", \"#FECB52\"], \"font\": {\"color\": \"#2a3f5f\"}, \"geo\": {\"bgcolor\": \"white\", \"lakecolor\": \"white\", \"landcolor\": \"#E5ECF6\", \"showlakes\": true, \"showland\": true, \"subunitcolor\": \"white\"}, \"hoverlabel\": {\"align\": \"left\"}, \"hovermode\": \"closest\", \"mapbox\": {\"style\": \"light\"}, \"paper_bgcolor\": \"white\", \"plot_bgcolor\": \"#E5ECF6\", \"polar\": {\"angularaxis\": {\"gridcolor\": \"white\", \"linecolor\": \"white\", \"ticks\": \"\"}, \"bgcolor\": \"#E5ECF6\", \"radialaxis\": {\"gridcolor\": \"white\", \"linecolor\": \"white\", \"ticks\": \"\"}}, \"scene\": {\"xaxis\": {\"backgroundcolor\": \"#E5ECF6\", \"gridcolor\": \"white\", \"gridwidth\": 2, \"linecolor\": \"white\", \"showbackground\": true, \"ticks\": \"\", \"zerolinecolor\": \"white\"}, \"yaxis\": {\"backgroundcolor\": \"#E5ECF6\", \"gridcolor\": \"white\", \"gridwidth\": 2, \"linecolor\": \"white\", \"showbackground\": true, \"ticks\": \"\", \"zerolinecolor\": \"white\"}, \"zaxis\": {\"backgroundcolor\": \"#E5ECF6\", \"gridcolor\": \"white\", \"gridwidth\": 2, \"linecolor\": \"white\", \"showbackground\": true, \"ticks\": \"\", \"zerolinecolor\": \"white\"}}, \"shapedefaults\": {\"line\": {\"color\": \"#2a3f5f\"}}, \"ternary\": {\"aaxis\": {\"gridcolor\": \"white\", \"linecolor\": \"white\", \"ticks\": \"\"}, \"baxis\": {\"gridcolor\": \"white\", \"linecolor\": \"white\", \"ticks\": \"\"}, \"bgcolor\": \"#E5ECF6\", \"caxis\": {\"gridcolor\": \"white\", \"linecolor\": \"white\", \"ticks\": \"\"}}, \"title\": {\"x\": 0.05}, \"xaxis\": {\"automargin\": true, \"gridcolor\": \"white\", \"linecolor\": \"white\", \"ticks\": \"\", \"title\": {\"standoff\": 15}, \"zerolinecolor\": \"white\", \"zerolinewidth\": 2}, \"yaxis\": {\"automargin\": true, \"gridcolor\": \"white\", \"linecolor\": \"white\", \"ticks\": \"\", \"title\": {\"standoff\": 15}, \"zerolinecolor\": \"white\", \"zerolinewidth\": 2}}}, \"title\": {\"text\": \"Dry year average for indian for ffm DS_Mag_90\"}, \"xaxis\": {\"anchor\": \"y\", \"domain\": [0.0, 1.0], \"title\": {\"text\": \"ift\"}}, \"yaxis\": {\"anchor\": \"x\", \"domain\": [0.0, 1.0], \"title\": {\"text\": \"dry_val_mean\"}}},\n",
       "                        {\"responsive\": true}\n",
       "                    ).then(function(){\n",
       "                            \n",
       "var gd = document.getElementById('cf9bd2d2-b61d-4a95-af03-d31136b5cbe0');\n",
       "var x = new MutationObserver(function (mutations, observer) {{\n",
       "        var display = window.getComputedStyle(gd).display;\n",
       "        if (!display || display === 'none') {{\n",
       "            console.log([gd, 'removed!']);\n",
       "            Plotly.purge(gd);\n",
       "            observer.disconnect();\n",
       "        }}\n",
       "}});\n",
       "\n",
       "// Listen for the removal of the full notebook cells\n",
       "var notebookContainer = gd.closest('#notebook-container');\n",
       "if (notebookContainer) {{\n",
       "    x.observe(notebookContainer, {childList: true});\n",
       "}}\n",
       "\n",
       "// Listen for the clearing of the current output cell\n",
       "var outputEl = gd.closest('.output');\n",
       "if (outputEl) {{\n",
       "    x.observe(outputEl, {childList: true});\n",
       "}}\n",
       "\n",
       "                        })\n",
       "                };\n",
       "                });\n",
       "            </script>\n",
       "        </div>"
      ]
     },
     "metadata": {},
     "output_type": "display_data"
    }
   ],
   "source": [
    "stream = 'indian'\n",
    "ffm = 'DS_Mag_90'\n",
    "df5 = df4.loc[(df4.ffm == ffm) & (df4.stream == stream)]\n",
    "# Simple bar chart\n",
    "fig = px.bar(df5, x=\"ift\", y=\"dry_val_mean\", title='Dry year average for {} for ffm {}'.format(stream,ffm))\n",
    "fig.show()"
   ]
  },
  {
   "cell_type": "code",
   "execution_count": 19,
   "metadata": {
    "scrolled": true
   },
   "outputs": [
    {
     "data": {
      "text/html": [
       "<div>\n",
       "<style scoped>\n",
       "    .dataframe tbody tr th:only-of-type {\n",
       "        vertical-align: middle;\n",
       "    }\n",
       "\n",
       "    .dataframe tbody tr th {\n",
       "        vertical-align: top;\n",
       "    }\n",
       "\n",
       "    .dataframe thead th {\n",
       "        text-align: right;\n",
       "    }\n",
       "</style>\n",
       "<table border=\"1\" class=\"dataframe\">\n",
       "  <thead>\n",
       "    <tr style=\"text-align: right;\">\n",
       "      <th></th>\n",
       "      <th>water_year</th>\n",
       "      <th>stream</th>\n",
       "      <th>ift</th>\n",
       "      <th>ffm</th>\n",
       "      <th>value</th>\n",
       "      <th>wy_mean_flow_cfs</th>\n",
       "      <th>day_count</th>\n",
       "      <th>pct_rank</th>\n",
       "      <th>value_unimp</th>\n",
       "    </tr>\n",
       "  </thead>\n",
       "  <tbody>\n",
       "    <tr>\n",
       "      <th>0</th>\n",
       "      <td>1951</td>\n",
       "      <td>indian</td>\n",
       "      <td>mpof</td>\n",
       "      <td>DS_Dur_WS</td>\n",
       "      <td>159.0</td>\n",
       "      <td>80.799484</td>\n",
       "      <td>365</td>\n",
       "      <td>0.732394</td>\n",
       "      <td>158.0</td>\n",
       "    </tr>\n",
       "    <tr>\n",
       "      <th>1</th>\n",
       "      <td>1952</td>\n",
       "      <td>indian</td>\n",
       "      <td>mpof</td>\n",
       "      <td>DS_Dur_WS</td>\n",
       "      <td>220.0</td>\n",
       "      <td>97.464302</td>\n",
       "      <td>366</td>\n",
       "      <td>0.830986</td>\n",
       "      <td>219.0</td>\n",
       "    </tr>\n",
       "    <tr>\n",
       "      <th>2</th>\n",
       "      <td>1953</td>\n",
       "      <td>indian</td>\n",
       "      <td>mpof</td>\n",
       "      <td>DS_Dur_WS</td>\n",
       "      <td>195.0</td>\n",
       "      <td>78.676068</td>\n",
       "      <td>365</td>\n",
       "      <td>0.676056</td>\n",
       "      <td>195.0</td>\n",
       "    </tr>\n",
       "    <tr>\n",
       "      <th>3</th>\n",
       "      <td>1954</td>\n",
       "      <td>indian</td>\n",
       "      <td>mpof</td>\n",
       "      <td>DS_Dur_WS</td>\n",
       "      <td>170.0</td>\n",
       "      <td>67.919191</td>\n",
       "      <td>365</td>\n",
       "      <td>0.577465</td>\n",
       "      <td>169.0</td>\n",
       "    </tr>\n",
       "    <tr>\n",
       "      <th>4</th>\n",
       "      <td>1955</td>\n",
       "      <td>indian</td>\n",
       "      <td>mpof</td>\n",
       "      <td>DS_Dur_WS</td>\n",
       "      <td>171.0</td>\n",
       "      <td>32.950972</td>\n",
       "      <td>365</td>\n",
       "      <td>0.253521</td>\n",
       "      <td>170.0</td>\n",
       "    </tr>\n",
       "    <tr>\n",
       "      <th>5</th>\n",
       "      <td>1956</td>\n",
       "      <td>indian</td>\n",
       "      <td>mpof</td>\n",
       "      <td>DS_Dur_WS</td>\n",
       "      <td>283.0</td>\n",
       "      <td>116.140401</td>\n",
       "      <td>366</td>\n",
       "      <td>0.887324</td>\n",
       "      <td>283.0</td>\n",
       "    </tr>\n",
       "    <tr>\n",
       "      <th>6</th>\n",
       "      <td>1957</td>\n",
       "      <td>indian</td>\n",
       "      <td>mpof</td>\n",
       "      <td>DS_Dur_WS</td>\n",
       "      <td>175.0</td>\n",
       "      <td>41.925103</td>\n",
       "      <td>365</td>\n",
       "      <td>0.394366</td>\n",
       "      <td>174.0</td>\n",
       "    </tr>\n",
       "    <tr>\n",
       "      <th>7</th>\n",
       "      <td>1958</td>\n",
       "      <td>indian</td>\n",
       "      <td>mpof</td>\n",
       "      <td>DS_Dur_WS</td>\n",
       "      <td>229.0</td>\n",
       "      <td>124.676122</td>\n",
       "      <td>365</td>\n",
       "      <td>0.901408</td>\n",
       "      <td>229.0</td>\n",
       "    </tr>\n",
       "    <tr>\n",
       "      <th>8</th>\n",
       "      <td>1959</td>\n",
       "      <td>indian</td>\n",
       "      <td>mpof</td>\n",
       "      <td>DS_Dur_WS</td>\n",
       "      <td>256.0</td>\n",
       "      <td>41.579588</td>\n",
       "      <td>365</td>\n",
       "      <td>0.380282</td>\n",
       "      <td>254.0</td>\n",
       "    </tr>\n",
       "    <tr>\n",
       "      <th>9</th>\n",
       "      <td>1960</td>\n",
       "      <td>indian</td>\n",
       "      <td>mpof</td>\n",
       "      <td>DS_Dur_WS</td>\n",
       "      <td>127.0</td>\n",
       "      <td>43.260980</td>\n",
       "      <td>366</td>\n",
       "      <td>0.422535</td>\n",
       "      <td>127.0</td>\n",
       "    </tr>\n",
       "    <tr>\n",
       "      <th>10</th>\n",
       "      <td>1961</td>\n",
       "      <td>indian</td>\n",
       "      <td>mpof</td>\n",
       "      <td>DS_Dur_WS</td>\n",
       "      <td>145.0</td>\n",
       "      <td>46.742975</td>\n",
       "      <td>365</td>\n",
       "      <td>0.450704</td>\n",
       "      <td>145.0</td>\n",
       "    </tr>\n",
       "    <tr>\n",
       "      <th>11</th>\n",
       "      <td>1962</td>\n",
       "      <td>indian</td>\n",
       "      <td>mpof</td>\n",
       "      <td>DS_Dur_WS</td>\n",
       "      <td>220.0</td>\n",
       "      <td>49.370364</td>\n",
       "      <td>365</td>\n",
       "      <td>0.464789</td>\n",
       "      <td>220.0</td>\n",
       "    </tr>\n",
       "    <tr>\n",
       "      <th>12</th>\n",
       "      <td>1963</td>\n",
       "      <td>indian</td>\n",
       "      <td>mpof</td>\n",
       "      <td>DS_Dur_WS</td>\n",
       "      <td>148.0</td>\n",
       "      <td>69.705711</td>\n",
       "      <td>365</td>\n",
       "      <td>0.591549</td>\n",
       "      <td>148.0</td>\n",
       "    </tr>\n",
       "    <tr>\n",
       "      <th>13</th>\n",
       "      <td>1964</td>\n",
       "      <td>indian</td>\n",
       "      <td>mpof</td>\n",
       "      <td>DS_Dur_WS</td>\n",
       "      <td>175.0</td>\n",
       "      <td>27.424636</td>\n",
       "      <td>366</td>\n",
       "      <td>0.211268</td>\n",
       "      <td>175.0</td>\n",
       "    </tr>\n",
       "    <tr>\n",
       "      <th>14</th>\n",
       "      <td>1965</td>\n",
       "      <td>indian</td>\n",
       "      <td>mpof</td>\n",
       "      <td>DS_Dur_WS</td>\n",
       "      <td>183.0</td>\n",
       "      <td>103.935032</td>\n",
       "      <td>365</td>\n",
       "      <td>0.845070</td>\n",
       "      <td>183.0</td>\n",
       "    </tr>\n",
       "    <tr>\n",
       "      <th>15</th>\n",
       "      <td>1966</td>\n",
       "      <td>indian</td>\n",
       "      <td>mpof</td>\n",
       "      <td>DS_Dur_WS</td>\n",
       "      <td>195.0</td>\n",
       "      <td>49.821766</td>\n",
       "      <td>365</td>\n",
       "      <td>0.478873</td>\n",
       "      <td>194.0</td>\n",
       "    </tr>\n",
       "    <tr>\n",
       "      <th>16</th>\n",
       "      <td>1967</td>\n",
       "      <td>indian</td>\n",
       "      <td>mpof</td>\n",
       "      <td>DS_Dur_WS</td>\n",
       "      <td>186.0</td>\n",
       "      <td>78.204506</td>\n",
       "      <td>365</td>\n",
       "      <td>0.661972</td>\n",
       "      <td>186.0</td>\n",
       "    </tr>\n",
       "    <tr>\n",
       "      <th>17</th>\n",
       "      <td>1968</td>\n",
       "      <td>indian</td>\n",
       "      <td>mpof</td>\n",
       "      <td>DS_Dur_WS</td>\n",
       "      <td>217.0</td>\n",
       "      <td>40.423712</td>\n",
       "      <td>366</td>\n",
       "      <td>0.366197</td>\n",
       "      <td>216.0</td>\n",
       "    </tr>\n",
       "    <tr>\n",
       "      <th>18</th>\n",
       "      <td>1969</td>\n",
       "      <td>indian</td>\n",
       "      <td>mpof</td>\n",
       "      <td>DS_Dur_WS</td>\n",
       "      <td>254.0</td>\n",
       "      <td>109.408495</td>\n",
       "      <td>365</td>\n",
       "      <td>0.873239</td>\n",
       "      <td>254.0</td>\n",
       "    </tr>\n",
       "    <tr>\n",
       "      <th>19</th>\n",
       "      <td>1970</td>\n",
       "      <td>indian</td>\n",
       "      <td>mpof</td>\n",
       "      <td>DS_Dur_WS</td>\n",
       "      <td>213.0</td>\n",
       "      <td>92.852301</td>\n",
       "      <td>365</td>\n",
       "      <td>0.816901</td>\n",
       "      <td>211.0</td>\n",
       "    </tr>\n",
       "    <tr>\n",
       "      <th>20</th>\n",
       "      <td>1971</td>\n",
       "      <td>indian</td>\n",
       "      <td>mpof</td>\n",
       "      <td>DS_Dur_WS</td>\n",
       "      <td>177.0</td>\n",
       "      <td>66.465648</td>\n",
       "      <td>365</td>\n",
       "      <td>0.563380</td>\n",
       "      <td>177.0</td>\n",
       "    </tr>\n",
       "    <tr>\n",
       "      <th>21</th>\n",
       "      <td>1972</td>\n",
       "      <td>indian</td>\n",
       "      <td>mpof</td>\n",
       "      <td>DS_Dur_WS</td>\n",
       "      <td>180.0</td>\n",
       "      <td>24.492674</td>\n",
       "      <td>366</td>\n",
       "      <td>0.154930</td>\n",
       "      <td>179.0</td>\n",
       "    </tr>\n",
       "    <tr>\n",
       "      <th>22</th>\n",
       "      <td>1973</td>\n",
       "      <td>indian</td>\n",
       "      <td>mpof</td>\n",
       "      <td>DS_Dur_WS</td>\n",
       "      <td>188.0</td>\n",
       "      <td>80.438832</td>\n",
       "      <td>365</td>\n",
       "      <td>0.718310</td>\n",
       "      <td>187.0</td>\n",
       "    </tr>\n",
       "    <tr>\n",
       "      <th>23</th>\n",
       "      <td>1974</td>\n",
       "      <td>indian</td>\n",
       "      <td>mpof</td>\n",
       "      <td>DS_Dur_WS</td>\n",
       "      <td>236.0</td>\n",
       "      <td>140.727383</td>\n",
       "      <td>365</td>\n",
       "      <td>0.971831</td>\n",
       "      <td>236.0</td>\n",
       "    </tr>\n",
       "    <tr>\n",
       "      <th>24</th>\n",
       "      <td>1975</td>\n",
       "      <td>indian</td>\n",
       "      <td>mpof</td>\n",
       "      <td>DS_Dur_WS</td>\n",
       "      <td>226.0</td>\n",
       "      <td>78.693342</td>\n",
       "      <td>365</td>\n",
       "      <td>0.690141</td>\n",
       "      <td>226.0</td>\n",
       "    </tr>\n",
       "    <tr>\n",
       "      <th>25</th>\n",
       "      <td>1976</td>\n",
       "      <td>indian</td>\n",
       "      <td>mpof</td>\n",
       "      <td>DS_Dur_WS</td>\n",
       "      <td>206.0</td>\n",
       "      <td>15.963928</td>\n",
       "      <td>366</td>\n",
       "      <td>0.070423</td>\n",
       "      <td>205.0</td>\n",
       "    </tr>\n",
       "    <tr>\n",
       "      <th>26</th>\n",
       "      <td>1977</td>\n",
       "      <td>indian</td>\n",
       "      <td>mpof</td>\n",
       "      <td>DS_Dur_WS</td>\n",
       "      <td>223.0</td>\n",
       "      <td>3.507721</td>\n",
       "      <td>365</td>\n",
       "      <td>0.014085</td>\n",
       "      <td>223.0</td>\n",
       "    </tr>\n",
       "    <tr>\n",
       "      <th>27</th>\n",
       "      <td>1978</td>\n",
       "      <td>indian</td>\n",
       "      <td>mpof</td>\n",
       "      <td>DS_Dur_WS</td>\n",
       "      <td>234.0</td>\n",
       "      <td>104.860561</td>\n",
       "      <td>365</td>\n",
       "      <td>0.859155</td>\n",
       "      <td>233.0</td>\n",
       "    </tr>\n",
       "    <tr>\n",
       "      <th>28</th>\n",
       "      <td>1979</td>\n",
       "      <td>indian</td>\n",
       "      <td>mpof</td>\n",
       "      <td>DS_Dur_WS</td>\n",
       "      <td>188.0</td>\n",
       "      <td>37.443202</td>\n",
       "      <td>365</td>\n",
       "      <td>0.323944</td>\n",
       "      <td>187.0</td>\n",
       "    </tr>\n",
       "    <tr>\n",
       "      <th>29</th>\n",
       "      <td>1980</td>\n",
       "      <td>indian</td>\n",
       "      <td>mpof</td>\n",
       "      <td>DS_Dur_WS</td>\n",
       "      <td>222.0</td>\n",
       "      <td>76.832308</td>\n",
       "      <td>366</td>\n",
       "      <td>0.647887</td>\n",
       "      <td>221.0</td>\n",
       "    </tr>\n",
       "    <tr>\n",
       "      <th>...</th>\n",
       "      <td>...</td>\n",
       "      <td>...</td>\n",
       "      <td>...</td>\n",
       "      <td>...</td>\n",
       "      <td>...</td>\n",
       "      <td>...</td>\n",
       "      <td>...</td>\n",
       "      <td>...</td>\n",
       "      <td>...</td>\n",
       "    </tr>\n",
       "    <tr>\n",
       "      <th>13794</th>\n",
       "      <td>1989</td>\n",
       "      <td>sproul</td>\n",
       "      <td>tessman</td>\n",
       "      <td>Peak_Fre_5</td>\n",
       "      <td>1.0</td>\n",
       "      <td>13.252853</td>\n",
       "      <td>365</td>\n",
       "      <td>0.389831</td>\n",
       "      <td>NaN</td>\n",
       "    </tr>\n",
       "    <tr>\n",
       "      <th>13795</th>\n",
       "      <td>1990</td>\n",
       "      <td>sproul</td>\n",
       "      <td>tessman</td>\n",
       "      <td>Peak_Fre_5</td>\n",
       "      <td>2.0</td>\n",
       "      <td>8.052878</td>\n",
       "      <td>365</td>\n",
       "      <td>0.118644</td>\n",
       "      <td>NaN</td>\n",
       "    </tr>\n",
       "    <tr>\n",
       "      <th>13796</th>\n",
       "      <td>1991</td>\n",
       "      <td>sproul</td>\n",
       "      <td>tessman</td>\n",
       "      <td>Peak_Fre_5</td>\n",
       "      <td>NaN</td>\n",
       "      <td>6.001208</td>\n",
       "      <td>365</td>\n",
       "      <td>0.050847</td>\n",
       "      <td>NaN</td>\n",
       "    </tr>\n",
       "    <tr>\n",
       "      <th>13797</th>\n",
       "      <td>1992</td>\n",
       "      <td>sproul</td>\n",
       "      <td>tessman</td>\n",
       "      <td>Peak_Fre_5</td>\n",
       "      <td>1.0</td>\n",
       "      <td>7.454817</td>\n",
       "      <td>366</td>\n",
       "      <td>0.084746</td>\n",
       "      <td>NaN</td>\n",
       "    </tr>\n",
       "    <tr>\n",
       "      <th>13798</th>\n",
       "      <td>1993</td>\n",
       "      <td>sproul</td>\n",
       "      <td>tessman</td>\n",
       "      <td>Peak_Fre_5</td>\n",
       "      <td>1.0</td>\n",
       "      <td>17.562573</td>\n",
       "      <td>365</td>\n",
       "      <td>0.559322</td>\n",
       "      <td>NaN</td>\n",
       "    </tr>\n",
       "    <tr>\n",
       "      <th>13799</th>\n",
       "      <td>1994</td>\n",
       "      <td>sproul</td>\n",
       "      <td>tessman</td>\n",
       "      <td>Peak_Fre_5</td>\n",
       "      <td>1.0</td>\n",
       "      <td>8.383805</td>\n",
       "      <td>365</td>\n",
       "      <td>0.135593</td>\n",
       "      <td>NaN</td>\n",
       "    </tr>\n",
       "    <tr>\n",
       "      <th>13800</th>\n",
       "      <td>1995</td>\n",
       "      <td>sproul</td>\n",
       "      <td>tessman</td>\n",
       "      <td>Peak_Fre_5</td>\n",
       "      <td>1.0</td>\n",
       "      <td>27.580668</td>\n",
       "      <td>365</td>\n",
       "      <td>0.881356</td>\n",
       "      <td>2.0</td>\n",
       "    </tr>\n",
       "    <tr>\n",
       "      <th>13801</th>\n",
       "      <td>1996</td>\n",
       "      <td>sproul</td>\n",
       "      <td>tessman</td>\n",
       "      <td>Peak_Fre_5</td>\n",
       "      <td>3.0</td>\n",
       "      <td>19.729783</td>\n",
       "      <td>366</td>\n",
       "      <td>0.677966</td>\n",
       "      <td>NaN</td>\n",
       "    </tr>\n",
       "    <tr>\n",
       "      <th>13802</th>\n",
       "      <td>1997</td>\n",
       "      <td>sproul</td>\n",
       "      <td>tessman</td>\n",
       "      <td>Peak_Fre_5</td>\n",
       "      <td>3.0</td>\n",
       "      <td>22.877200</td>\n",
       "      <td>365</td>\n",
       "      <td>0.796610</td>\n",
       "      <td>1.0</td>\n",
       "    </tr>\n",
       "    <tr>\n",
       "      <th>13803</th>\n",
       "      <td>1998</td>\n",
       "      <td>sproul</td>\n",
       "      <td>tessman</td>\n",
       "      <td>Peak_Fre_5</td>\n",
       "      <td>1.0</td>\n",
       "      <td>26.866201</td>\n",
       "      <td>365</td>\n",
       "      <td>0.847458</td>\n",
       "      <td>NaN</td>\n",
       "    </tr>\n",
       "    <tr>\n",
       "      <th>13804</th>\n",
       "      <td>1999</td>\n",
       "      <td>sproul</td>\n",
       "      <td>tessman</td>\n",
       "      <td>Peak_Fre_5</td>\n",
       "      <td>1.0</td>\n",
       "      <td>19.591429</td>\n",
       "      <td>365</td>\n",
       "      <td>0.661017</td>\n",
       "      <td>NaN</td>\n",
       "    </tr>\n",
       "    <tr>\n",
       "      <th>13805</th>\n",
       "      <td>2000</td>\n",
       "      <td>sproul</td>\n",
       "      <td>tessman</td>\n",
       "      <td>Peak_Fre_5</td>\n",
       "      <td>1.0</td>\n",
       "      <td>16.810757</td>\n",
       "      <td>366</td>\n",
       "      <td>0.508475</td>\n",
       "      <td>NaN</td>\n",
       "    </tr>\n",
       "    <tr>\n",
       "      <th>13806</th>\n",
       "      <td>2001</td>\n",
       "      <td>sproul</td>\n",
       "      <td>tessman</td>\n",
       "      <td>Peak_Fre_5</td>\n",
       "      <td>2.0</td>\n",
       "      <td>6.871370</td>\n",
       "      <td>365</td>\n",
       "      <td>0.067797</td>\n",
       "      <td>NaN</td>\n",
       "    </tr>\n",
       "    <tr>\n",
       "      <th>13807</th>\n",
       "      <td>2002</td>\n",
       "      <td>sproul</td>\n",
       "      <td>tessman</td>\n",
       "      <td>Peak_Fre_5</td>\n",
       "      <td>3.0</td>\n",
       "      <td>16.246748</td>\n",
       "      <td>365</td>\n",
       "      <td>0.491525</td>\n",
       "      <td>NaN</td>\n",
       "    </tr>\n",
       "    <tr>\n",
       "      <th>13808</th>\n",
       "      <td>2003</td>\n",
       "      <td>sproul</td>\n",
       "      <td>tessman</td>\n",
       "      <td>Peak_Fre_5</td>\n",
       "      <td>1.0</td>\n",
       "      <td>22.857028</td>\n",
       "      <td>365</td>\n",
       "      <td>0.779661</td>\n",
       "      <td>NaN</td>\n",
       "    </tr>\n",
       "    <tr>\n",
       "      <th>13809</th>\n",
       "      <td>2004</td>\n",
       "      <td>sproul</td>\n",
       "      <td>tessman</td>\n",
       "      <td>Peak_Fre_5</td>\n",
       "      <td>3.0</td>\n",
       "      <td>16.865942</td>\n",
       "      <td>366</td>\n",
       "      <td>0.525424</td>\n",
       "      <td>NaN</td>\n",
       "    </tr>\n",
       "    <tr>\n",
       "      <th>13810</th>\n",
       "      <td>2005</td>\n",
       "      <td>sproul</td>\n",
       "      <td>tessman</td>\n",
       "      <td>Peak_Fre_5</td>\n",
       "      <td>3.0</td>\n",
       "      <td>15.582321</td>\n",
       "      <td>365</td>\n",
       "      <td>0.440678</td>\n",
       "      <td>NaN</td>\n",
       "    </tr>\n",
       "    <tr>\n",
       "      <th>13811</th>\n",
       "      <td>2006</td>\n",
       "      <td>sproul</td>\n",
       "      <td>tessman</td>\n",
       "      <td>Peak_Fre_5</td>\n",
       "      <td>1.0</td>\n",
       "      <td>29.524876</td>\n",
       "      <td>365</td>\n",
       "      <td>0.932203</td>\n",
       "      <td>NaN</td>\n",
       "    </tr>\n",
       "    <tr>\n",
       "      <th>13812</th>\n",
       "      <td>2007</td>\n",
       "      <td>sproul</td>\n",
       "      <td>tessman</td>\n",
       "      <td>Peak_Fre_5</td>\n",
       "      <td>1.0</td>\n",
       "      <td>12.006688</td>\n",
       "      <td>365</td>\n",
       "      <td>0.305085</td>\n",
       "      <td>NaN</td>\n",
       "    </tr>\n",
       "    <tr>\n",
       "      <th>13813</th>\n",
       "      <td>2008</td>\n",
       "      <td>sproul</td>\n",
       "      <td>tessman</td>\n",
       "      <td>Peak_Fre_5</td>\n",
       "      <td>2.0</td>\n",
       "      <td>12.637617</td>\n",
       "      <td>366</td>\n",
       "      <td>0.372881</td>\n",
       "      <td>NaN</td>\n",
       "    </tr>\n",
       "    <tr>\n",
       "      <th>13814</th>\n",
       "      <td>2009</td>\n",
       "      <td>sproul</td>\n",
       "      <td>tessman</td>\n",
       "      <td>Peak_Fre_5</td>\n",
       "      <td>1.0</td>\n",
       "      <td>9.402356</td>\n",
       "      <td>365</td>\n",
       "      <td>0.169492</td>\n",
       "      <td>NaN</td>\n",
       "    </tr>\n",
       "    <tr>\n",
       "      <th>13815</th>\n",
       "      <td>2010</td>\n",
       "      <td>sproul</td>\n",
       "      <td>tessman</td>\n",
       "      <td>Peak_Fre_5</td>\n",
       "      <td>2.0</td>\n",
       "      <td>17.956125</td>\n",
       "      <td>365</td>\n",
       "      <td>0.593220</td>\n",
       "      <td>NaN</td>\n",
       "    </tr>\n",
       "    <tr>\n",
       "      <th>13816</th>\n",
       "      <td>2011</td>\n",
       "      <td>sproul</td>\n",
       "      <td>tessman</td>\n",
       "      <td>Peak_Fre_5</td>\n",
       "      <td>2.0</td>\n",
       "      <td>19.126325</td>\n",
       "      <td>365</td>\n",
       "      <td>0.644068</td>\n",
       "      <td>NaN</td>\n",
       "    </tr>\n",
       "    <tr>\n",
       "      <th>13817</th>\n",
       "      <td>2012</td>\n",
       "      <td>sproul</td>\n",
       "      <td>tessman</td>\n",
       "      <td>Peak_Fre_5</td>\n",
       "      <td>1.0</td>\n",
       "      <td>11.624554</td>\n",
       "      <td>366</td>\n",
       "      <td>0.254237</td>\n",
       "      <td>NaN</td>\n",
       "    </tr>\n",
       "    <tr>\n",
       "      <th>13818</th>\n",
       "      <td>2013</td>\n",
       "      <td>sproul</td>\n",
       "      <td>tessman</td>\n",
       "      <td>Peak_Fre_5</td>\n",
       "      <td>1.0</td>\n",
       "      <td>13.437512</td>\n",
       "      <td>365</td>\n",
       "      <td>0.406780</td>\n",
       "      <td>1.0</td>\n",
       "    </tr>\n",
       "    <tr>\n",
       "      <th>13819</th>\n",
       "      <td>2014</td>\n",
       "      <td>sproul</td>\n",
       "      <td>tessman</td>\n",
       "      <td>Peak_Fre_5</td>\n",
       "      <td>NaN</td>\n",
       "      <td>3.422825</td>\n",
       "      <td>365</td>\n",
       "      <td>0.033898</td>\n",
       "      <td>NaN</td>\n",
       "    </tr>\n",
       "    <tr>\n",
       "      <th>13820</th>\n",
       "      <td>2015</td>\n",
       "      <td>sproul</td>\n",
       "      <td>tessman</td>\n",
       "      <td>Peak_Fre_5</td>\n",
       "      <td>NaN</td>\n",
       "      <td>12.519797</td>\n",
       "      <td>365</td>\n",
       "      <td>0.355932</td>\n",
       "      <td>1.0</td>\n",
       "    </tr>\n",
       "    <tr>\n",
       "      <th>13821</th>\n",
       "      <td>2016</td>\n",
       "      <td>sproul</td>\n",
       "      <td>tessman</td>\n",
       "      <td>Peak_Fre_5</td>\n",
       "      <td>1.0</td>\n",
       "      <td>16.968470</td>\n",
       "      <td>366</td>\n",
       "      <td>0.542373</td>\n",
       "      <td>NaN</td>\n",
       "    </tr>\n",
       "    <tr>\n",
       "      <th>13822</th>\n",
       "      <td>2017</td>\n",
       "      <td>sproul</td>\n",
       "      <td>tessman</td>\n",
       "      <td>Peak_Fre_5</td>\n",
       "      <td>1.0</td>\n",
       "      <td>29.207655</td>\n",
       "      <td>365</td>\n",
       "      <td>0.915254</td>\n",
       "      <td>1.0</td>\n",
       "    </tr>\n",
       "    <tr>\n",
       "      <th>13823</th>\n",
       "      <td>2018</td>\n",
       "      <td>sproul</td>\n",
       "      <td>tessman</td>\n",
       "      <td>Peak_Fre_5</td>\n",
       "      <td>1.0</td>\n",
       "      <td>9.552816</td>\n",
       "      <td>365</td>\n",
       "      <td>0.186441</td>\n",
       "      <td>NaN</td>\n",
       "    </tr>\n",
       "  </tbody>\n",
       "</table>\n",
       "<p>13824 rows × 9 columns</p>\n",
       "</div>"
      ],
      "text/plain": [
       "       water_year  stream      ift         ffm  value  wy_mean_flow_cfs  \\\n",
       "0            1951  indian     mpof   DS_Dur_WS  159.0         80.799484   \n",
       "1            1952  indian     mpof   DS_Dur_WS  220.0         97.464302   \n",
       "2            1953  indian     mpof   DS_Dur_WS  195.0         78.676068   \n",
       "3            1954  indian     mpof   DS_Dur_WS  170.0         67.919191   \n",
       "4            1955  indian     mpof   DS_Dur_WS  171.0         32.950972   \n",
       "5            1956  indian     mpof   DS_Dur_WS  283.0        116.140401   \n",
       "6            1957  indian     mpof   DS_Dur_WS  175.0         41.925103   \n",
       "7            1958  indian     mpof   DS_Dur_WS  229.0        124.676122   \n",
       "8            1959  indian     mpof   DS_Dur_WS  256.0         41.579588   \n",
       "9            1960  indian     mpof   DS_Dur_WS  127.0         43.260980   \n",
       "10           1961  indian     mpof   DS_Dur_WS  145.0         46.742975   \n",
       "11           1962  indian     mpof   DS_Dur_WS  220.0         49.370364   \n",
       "12           1963  indian     mpof   DS_Dur_WS  148.0         69.705711   \n",
       "13           1964  indian     mpof   DS_Dur_WS  175.0         27.424636   \n",
       "14           1965  indian     mpof   DS_Dur_WS  183.0        103.935032   \n",
       "15           1966  indian     mpof   DS_Dur_WS  195.0         49.821766   \n",
       "16           1967  indian     mpof   DS_Dur_WS  186.0         78.204506   \n",
       "17           1968  indian     mpof   DS_Dur_WS  217.0         40.423712   \n",
       "18           1969  indian     mpof   DS_Dur_WS  254.0        109.408495   \n",
       "19           1970  indian     mpof   DS_Dur_WS  213.0         92.852301   \n",
       "20           1971  indian     mpof   DS_Dur_WS  177.0         66.465648   \n",
       "21           1972  indian     mpof   DS_Dur_WS  180.0         24.492674   \n",
       "22           1973  indian     mpof   DS_Dur_WS  188.0         80.438832   \n",
       "23           1974  indian     mpof   DS_Dur_WS  236.0        140.727383   \n",
       "24           1975  indian     mpof   DS_Dur_WS  226.0         78.693342   \n",
       "25           1976  indian     mpof   DS_Dur_WS  206.0         15.963928   \n",
       "26           1977  indian     mpof   DS_Dur_WS  223.0          3.507721   \n",
       "27           1978  indian     mpof   DS_Dur_WS  234.0        104.860561   \n",
       "28           1979  indian     mpof   DS_Dur_WS  188.0         37.443202   \n",
       "29           1980  indian     mpof   DS_Dur_WS  222.0         76.832308   \n",
       "...           ...     ...      ...         ...    ...               ...   \n",
       "13794        1989  sproul  tessman  Peak_Fre_5    1.0         13.252853   \n",
       "13795        1990  sproul  tessman  Peak_Fre_5    2.0          8.052878   \n",
       "13796        1991  sproul  tessman  Peak_Fre_5    NaN          6.001208   \n",
       "13797        1992  sproul  tessman  Peak_Fre_5    1.0          7.454817   \n",
       "13798        1993  sproul  tessman  Peak_Fre_5    1.0         17.562573   \n",
       "13799        1994  sproul  tessman  Peak_Fre_5    1.0          8.383805   \n",
       "13800        1995  sproul  tessman  Peak_Fre_5    1.0         27.580668   \n",
       "13801        1996  sproul  tessman  Peak_Fre_5    3.0         19.729783   \n",
       "13802        1997  sproul  tessman  Peak_Fre_5    3.0         22.877200   \n",
       "13803        1998  sproul  tessman  Peak_Fre_5    1.0         26.866201   \n",
       "13804        1999  sproul  tessman  Peak_Fre_5    1.0         19.591429   \n",
       "13805        2000  sproul  tessman  Peak_Fre_5    1.0         16.810757   \n",
       "13806        2001  sproul  tessman  Peak_Fre_5    2.0          6.871370   \n",
       "13807        2002  sproul  tessman  Peak_Fre_5    3.0         16.246748   \n",
       "13808        2003  sproul  tessman  Peak_Fre_5    1.0         22.857028   \n",
       "13809        2004  sproul  tessman  Peak_Fre_5    3.0         16.865942   \n",
       "13810        2005  sproul  tessman  Peak_Fre_5    3.0         15.582321   \n",
       "13811        2006  sproul  tessman  Peak_Fre_5    1.0         29.524876   \n",
       "13812        2007  sproul  tessman  Peak_Fre_5    1.0         12.006688   \n",
       "13813        2008  sproul  tessman  Peak_Fre_5    2.0         12.637617   \n",
       "13814        2009  sproul  tessman  Peak_Fre_5    1.0          9.402356   \n",
       "13815        2010  sproul  tessman  Peak_Fre_5    2.0         17.956125   \n",
       "13816        2011  sproul  tessman  Peak_Fre_5    2.0         19.126325   \n",
       "13817        2012  sproul  tessman  Peak_Fre_5    1.0         11.624554   \n",
       "13818        2013  sproul  tessman  Peak_Fre_5    1.0         13.437512   \n",
       "13819        2014  sproul  tessman  Peak_Fre_5    NaN          3.422825   \n",
       "13820        2015  sproul  tessman  Peak_Fre_5    NaN         12.519797   \n",
       "13821        2016  sproul  tessman  Peak_Fre_5    1.0         16.968470   \n",
       "13822        2017  sproul  tessman  Peak_Fre_5    1.0         29.207655   \n",
       "13823        2018  sproul  tessman  Peak_Fre_5    1.0          9.552816   \n",
       "\n",
       "       day_count  pct_rank  value_unimp  \n",
       "0            365  0.732394        158.0  \n",
       "1            366  0.830986        219.0  \n",
       "2            365  0.676056        195.0  \n",
       "3            365  0.577465        169.0  \n",
       "4            365  0.253521        170.0  \n",
       "5            366  0.887324        283.0  \n",
       "6            365  0.394366        174.0  \n",
       "7            365  0.901408        229.0  \n",
       "8            365  0.380282        254.0  \n",
       "9            366  0.422535        127.0  \n",
       "10           365  0.450704        145.0  \n",
       "11           365  0.464789        220.0  \n",
       "12           365  0.591549        148.0  \n",
       "13           366  0.211268        175.0  \n",
       "14           365  0.845070        183.0  \n",
       "15           365  0.478873        194.0  \n",
       "16           365  0.661972        186.0  \n",
       "17           366  0.366197        216.0  \n",
       "18           365  0.873239        254.0  \n",
       "19           365  0.816901        211.0  \n",
       "20           365  0.563380        177.0  \n",
       "21           366  0.154930        179.0  \n",
       "22           365  0.718310        187.0  \n",
       "23           365  0.971831        236.0  \n",
       "24           365  0.690141        226.0  \n",
       "25           366  0.070423        205.0  \n",
       "26           365  0.014085        223.0  \n",
       "27           365  0.859155        233.0  \n",
       "28           365  0.323944        187.0  \n",
       "29           366  0.647887        221.0  \n",
       "...          ...       ...          ...  \n",
       "13794        365  0.389831          NaN  \n",
       "13795        365  0.118644          NaN  \n",
       "13796        365  0.050847          NaN  \n",
       "13797        366  0.084746          NaN  \n",
       "13798        365  0.559322          NaN  \n",
       "13799        365  0.135593          NaN  \n",
       "13800        365  0.881356          2.0  \n",
       "13801        366  0.677966          NaN  \n",
       "13802        365  0.796610          1.0  \n",
       "13803        365  0.847458          NaN  \n",
       "13804        365  0.661017          NaN  \n",
       "13805        366  0.508475          NaN  \n",
       "13806        365  0.067797          NaN  \n",
       "13807        365  0.491525          NaN  \n",
       "13808        365  0.779661          NaN  \n",
       "13809        366  0.525424          NaN  \n",
       "13810        365  0.440678          NaN  \n",
       "13811        365  0.932203          NaN  \n",
       "13812        365  0.305085          NaN  \n",
       "13813        366  0.372881          NaN  \n",
       "13814        365  0.169492          NaN  \n",
       "13815        365  0.593220          NaN  \n",
       "13816        365  0.644068          NaN  \n",
       "13817        366  0.254237          NaN  \n",
       "13818        365  0.406780          1.0  \n",
       "13819        365  0.033898          NaN  \n",
       "13820        365  0.355932          1.0  \n",
       "13821        366  0.542373          NaN  \n",
       "13822        365  0.915254          1.0  \n",
       "13823        365  0.186441          NaN  \n",
       "\n",
       "[13824 rows x 9 columns]"
      ]
     },
     "execution_count": 19,
     "metadata": {},
     "output_type": "execute_result"
    }
   ],
   "source": [
    "#Compare management hydrographs to unimpaired hydrograph\n",
    "df6 = df3.loc[df3.ift == 'unimp'].copy()\n",
    "df6.rename(columns={'value': 'value_unimp'}, inplace=True)\n",
    "df7 = df3.loc[df3.ift != 'unimp'].copy()\n",
    "df8 = pd.merge(df7, df6[['water_year', 'stream', 'ffm', 'value_unimp']], on=['water_year', 'stream', 'ffm'], how='left')\n",
    "df8"
   ]
  },
  {
   "cell_type": "code",
   "execution_count": 20,
   "metadata": {},
   "outputs": [],
   "source": [
    "# Export data to CSV\n",
    "\n",
    "df8.to_csv(out_csv, encoding='utf-8', index=False)"
   ]
  }
 ],
 "metadata": {
  "kernelspec": {
   "display_name": "Python (freshwater)",
   "language": "python",
   "name": "freshwater"
  },
  "language_info": {
   "codemirror_mode": {
    "name": "ipython",
    "version": 3
   },
   "file_extension": ".py",
   "mimetype": "text/x-python",
   "name": "python",
   "nbconvert_exporter": "python",
   "pygments_lexer": "ipython3",
   "version": "3.9.15"
  }
 },
 "nbformat": 4,
 "nbformat_minor": 4
}
