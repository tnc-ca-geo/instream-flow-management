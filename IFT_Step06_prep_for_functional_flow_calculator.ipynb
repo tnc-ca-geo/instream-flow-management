{
 "cells": [
  {
   "cell_type": "code",
   "execution_count": 1,
   "metadata": {},
   "outputs": [],
   "source": [
    "import os\n",
    "import sys\n",
    "import pandas as pd\n",
    "import numpy as np\n",
    "import datetime as dt"
   ]
  },
  {
   "cell_type": "code",
   "execution_count": 25,
   "metadata": {},
   "outputs": [],
   "source": [
    "# Paths, input, and output file names\n",
    "\n",
    "outer_dir = os.path.abspath(os.path.join(os.getcwd() ,\"../..\"))\n",
    "path = os.path.join(outer_dir, 'IFT_files', 'IFT Results')\n",
    "unimp_path = os.path.join(outer_dir, 'IFT_files', 'Unimpaired Flow')\n",
    "out_path = os.path.join(path, 'ffc_files')\n",
    "\n",
    "\n",
    "ift_list = [['mpof','All LOI MPOF - Default IFTs.csv'],\n",
    "            ['mmpof', 'All LOI MMPOF_TNC.csv'],\n",
    "            ['ncifp', 'All LOI NCIFP IFTs_TNC.csv'],\n",
    "            ['tessman', 'All LOI Tessmann Flow Requirements_TNC.csv']\n",
    "           ]\n",
    "stream_list = ['Indian', 'Sproul']\n",
    "hydro_list = ['unimp','mpof','mmpof','ncifp','tessman']\n",
    "version = 'V1_0_0'\n",
    "out_all_csv = os.path.join(path, 'All_hydrographs_{}.csv'.format(version))"
   ]
  },
  {
   "cell_type": "code",
   "execution_count": 21,
   "metadata": {},
   "outputs": [
    {
     "name": "stdout",
     "output_type": "stream",
     "text": [
      "imporing mpof\n",
      "imporing mmpof\n",
      "imporing ncifp\n",
      "imporing tessman\n"
     ]
    }
   ],
   "source": [
    "# Import and reformat ift files\n",
    "for ift in ift_list:\n",
    "    in_csv = os.path.join(path, ift[1])\n",
    "    print('imporing {}'.format(ift[0]))\n",
    "    df = pd.read_csv(in_csv)\n",
    "    df['date'] = pd.to_datetime(df['TS'])\n",
    "    df['date'] = df['date'].dt.strftime('%Y-%m-%d')\n",
    "    for stream in stream_list:\n",
    "        out_csv = os.path.join(out_path, \"{}_{}_flow_{}.csv\".format(stream.lower(),ift[0],version))\n",
    "        df1 = df[['date',stream]].dropna()\n",
    "        df1.rename(columns={stream: 'flow'}, inplace=True)\n",
    "        df1.to_csv(out_csv, index=False)"
   ]
  },
  {
   "cell_type": "code",
   "execution_count": 22,
   "metadata": {},
   "outputs": [
    {
     "name": "stdout",
     "output_type": "stream",
     "text": [
      "imporing Indian\n",
      "imporing Sproul\n"
     ]
    }
   ],
   "source": [
    "# Import and reformat unimpaired files\n",
    "for stream in stream_list:\n",
    "    in_csv = os.path.join(unimp_path, \"{}.csv\".format(stream))\n",
    "    print('imporing {}'.format(stream))\n",
    "    df = pd.read_csv(in_csv)\n",
    "    df['date'] = pd.to_datetime(df['DTTM'])\n",
    "    df['date'] = df['date'].dt.strftime('%Y-%m-%d')\n",
    "    out_csv = os.path.join(out_path, \"{}_unimp_flow_{}.csv\".format(stream.lower(),version))\n",
    "    df = df[['date','flow']].dropna()\n",
    "    df.to_csv(out_csv, index=False)"
   ]
  },
  {
   "cell_type": "code",
   "execution_count": 32,
   "metadata": {},
   "outputs": [
    {
     "name": "stdout",
     "output_type": "stream",
     "text": [
      "imporing unimp data for Indian\n",
      "imporing unimp data for Sproul\n",
      "imporing mpof data for Indian\n",
      "imporing mpof data for Sproul\n",
      "imporing mmpof data for Indian\n",
      "imporing mmpof data for Sproul\n",
      "imporing ncifp data for Indian\n",
      "imporing ncifp data for Sproul\n",
      "imporing tessman data for Indian\n",
      "imporing tessman data for Sproul\n",
      "Exporing data\n"
     ]
    }
   ],
   "source": [
    "# Create one file with all data\n",
    "i=0\n",
    "for hydro in hydro_list:\n",
    "    for stream in stream_list:\n",
    "        in_csv = os.path.join(out_path, \"{}_{}_flow_{}.csv\".format(stream.lower(),hydro, version))\n",
    "        print('imporing {} data for {}'.format(hydro,stream))\n",
    "        df = pd.read_csv(in_csv)\n",
    "        df['ift'] = hydro\n",
    "        df['stream'] = stream.lower()\n",
    "        df['version'] = version\n",
    "        if i == 0:\n",
    "            df_out = df\n",
    "        else:\n",
    "            df_out = df_out.append(df)\n",
    "        i+=1\n",
    "print('Exporing data')\n",
    "df_out['date'] = pd.to_datetime(df_out['date'])\n",
    "df_out['month'] = df_out['date'].dt.month\n",
    "df_out['year'] = df_out['date'].dt.year\n",
    "df_out['water_year'] = np.where(df_out['month']<10, df_out['year'], df_out['year'] + 1)\n",
    "df_out.to_csv(out_all_csv, index=False)"
   ]
  },
  {
   "cell_type": "code",
   "execution_count": null,
   "metadata": {},
   "outputs": [],
   "source": []
  }
 ],
 "metadata": {
  "kernelspec": {
   "display_name": "Python (freshwater)",
   "language": "python",
   "name": "freshwater"
  },
  "language_info": {
   "codemirror_mode": {
    "name": "ipython",
    "version": 3
   },
   "file_extension": ".py",
   "mimetype": "text/x-python",
   "name": "python",
   "nbconvert_exporter": "python",
   "pygments_lexer": "ipython3",
   "version": "3.9.15"
  }
 },
 "nbformat": 4,
 "nbformat_minor": 4
}
