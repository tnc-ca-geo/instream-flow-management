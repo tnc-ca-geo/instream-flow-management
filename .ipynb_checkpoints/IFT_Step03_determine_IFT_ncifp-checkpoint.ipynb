{
 "cells": [
  {
   "cell_type": "code",
   "execution_count": 1,
   "metadata": {},
   "outputs": [],
   "source": [
    "# Original filename: \"02_ncifp_flow_reqts_v2.py\""
   ]
  },
  {
   "cell_type": "code",
   "execution_count": 2,
   "metadata": {},
   "outputs": [],
   "source": [
    "import os\n",
    "import sys\n",
    "import pandas as pd\n",
    "import numpy as np\n",
    "import datetime as dt"
   ]
  },
  {
   "cell_type": "code",
   "execution_count": 3,
   "metadata": {},
   "outputs": [],
   "source": [
    "# Paths, input, and output file names\n",
    "\n",
    "outer_dir = os.path.abspath(os.path.join(os.getcwd() ,\"../..\"))\n",
    "refpth = os.path.join(outer_dir, 'IFT_files', 'Reference Files')\n",
    "sfe_char_csv = os.path.join(refpth, 'TNC SFE LOI Characteristics with MAF.csv')\n",
    "sfe_char_xls= os.path.join(refpth, 'TNC SFE LOI Characteristics.xlsx')\n",
    "subset_xls = os.path.join(refpth, 'TNC Subset SFE LOIs.xlsx')\n",
    "#sfe_char_csv = os.path.join(refpth, 'All SFE LOI Characteristics with MAF.csv')\n",
    "#sfe_char_xls= os.path.join(refpth, 'All SFE LOI Characteristics.xlsx')\n",
    "#subset_xls = os.path.join(refpth, 'Subset SFE LOIs.xlsx')\n",
    "unimpath = os.path.join(outer_dir, \"IFT_files\", 'Unimpaired Flow')\n",
    "\n",
    "startdir = os.path.join(outer_dir, 'IFT_files', 'IFT Results')\n",
    "alldates = pd.date_range(dt.datetime(1950,10,1),dt.datetime(2021,8,1))\n",
    "out_csv = os.path.join(startdir, 'All LOI NCIFP IFTs_TNC.csv')"
   ]
  },
  {
   "cell_type": "code",
   "execution_count": 5,
   "metadata": {},
   "outputs": [],
   "source": [
    "# Original filename: \"00_read_loi_paradigm_flow_v3.py\"\n",
    "def read_loi_paradigm_flow(p):\n",
    "    unimpflowfile = os.path.join(unimpath, str(p) + '.csv')\n",
    "    unimp = pd.read_csv(unimpflowfile,index_col=0)\n",
    "    unimp.index = pd.DatetimeIndex(unimp.index)\n",
    "    return unimp"
   ]
  },
  {
   "cell_type": "code",
   "execution_count": 6,
   "metadata": {},
   "outputs": [],
   "source": [
    "# Original filename: \"00_add_ts_col.py\"\n",
    "def add_ts_col(tab):\n",
    "#adds column for TS as first column of DataFrame as formatted date\n",
    "    tab['TS'] = tab.index.strftime('%m/%d/%Y')\n",
    "    cols = tab.columns.tolist()\n",
    "    cols = cols[-1:] + cols[:-1]\n",
    "    tab = tab[cols]\n",
    "    return tab"
   ]
  },
  {
   "cell_type": "code",
   "execution_count": 24,
   "metadata": {},
   "outputs": [],
   "source": [
    "# Calculate bankful flow (Qbf) using the 1.5 year recurrance interval according to NCIFP\n",
    "def rec_int_flow(p,ri):\n",
    "    '''Function to estimate the closest max flow value for a given recurrence interval'''\n",
    "    df_daily = read_loi_paradigm_flow(p)\n",
    "    # Calculate max flow by water year\n",
    "    df = (df_daily.groupby('Water Year')\n",
    "               .agg({'flow':'max', 'Day':'count'})\n",
    "               .reset_index()\n",
    "               .rename(columns={'flow':'max_flow', 'Day':'day_count'})\n",
    "              )\n",
    "    # Remove partial years\n",
    "    df = df.loc[df['day_count'] >= 365]\n",
    "    # Calculate recurrence interval\n",
    "    df = df.sort_values(by=['max_flow'], ascending=[False]).reset_index()\n",
    "    df['flow_rank'] = df['max_flow'].rank(ascending = False)\n",
    "    num_years = len(df)\n",
    "    df['prob_exceedence'] = df.flow_rank / (num_years + 1)\n",
    "    df['recurrence_interval'] = (num_years + 1) / df.flow_rank\n",
    "    # Return flow for specified recurrence interval\n",
    "    row_num = df['recurrence_interval'].sub(ri).abs().idxmin()\n",
    "    Q = df.iloc[row_num]['max_flow']\n",
    "    return Q\n"
   ]
  },
  {
   "cell_type": "code",
   "execution_count": 33,
   "metadata": {},
   "outputs": [],
   "source": [
    "# Original filename: \"00_get_all_sfe_lois.py\"\n",
    "# Read in SFE LOI characteristics table and calculate bankfull flow using cont. Area relation\n",
    "\n",
    "def get_all_sfe_lois():\n",
    "    sfelois = pd.read_csv(sfe_char_csv,index_col=0)\n",
    "    loi = [str(i) for i in sfelois['LOI']]\n",
    "    sfelois['Outlet LOI'] = sfelois['LOI']\n",
    "    sfelois['Contributing Area (mi^2)'] = sfelois['Contributing Area']\n",
    "    sfelois['MAF'] = sfelois['Mean Annual Flow (cfs)']\n",
    "    #sfelois['Qbf'] = 71.5 * sfelois['Contributing Area (mi^2)'] #71.5 cfs/mi^2 according to Darren\n",
    "    sfelois['Qbf'] = sfelois.apply(lambda row : rec_int_flow(str(row['LOI']),1.5), axis = 1)\n",
    "    subset = pd.read_excel(subset_xls)\n",
    "    sublois = sfelois.loc[subset['SWSID'],:]\n",
    "    return sublois, loi, sfelois"
   ]
  },
  {
   "cell_type": "code",
   "execution_count": 35,
   "metadata": {},
   "outputs": [],
   "source": [
    "loitab, loi, fultab = get_all_sfe_lois()\n",
    "loitab = fultab"
   ]
  },
  {
   "cell_type": "code",
   "execution_count": 36,
   "metadata": {},
   "outputs": [
    {
     "data": {
      "text/html": [
       "<div>\n",
       "<style scoped>\n",
       "    .dataframe tbody tr th:only-of-type {\n",
       "        vertical-align: middle;\n",
       "    }\n",
       "\n",
       "    .dataframe tbody tr th {\n",
       "        vertical-align: top;\n",
       "    }\n",
       "\n",
       "    .dataframe thead th {\n",
       "        text-align: right;\n",
       "    }\n",
       "</style>\n",
       "<table border=\"1\" class=\"dataframe\">\n",
       "  <thead>\n",
       "    <tr style=\"text-align: right;\">\n",
       "      <th></th>\n",
       "      <th>LOI</th>\n",
       "      <th>dnLOI</th>\n",
       "      <th>Lat</th>\n",
       "      <th>Lon</th>\n",
       "      <th>Contributing Area</th>\n",
       "      <th>Geomorphic Class</th>\n",
       "      <th>Geologic Setting</th>\n",
       "      <th>Mean Annual Flow (cfs)</th>\n",
       "      <th>COMID</th>\n",
       "      <th>Outlet LOI</th>\n",
       "      <th>Contributing Area (mi^2)</th>\n",
       "      <th>MAF</th>\n",
       "      <th>Qbf</th>\n",
       "    </tr>\n",
       "  </thead>\n",
       "  <tbody>\n",
       "    <tr>\n",
       "      <th>2664961</th>\n",
       "      <td>Indian</td>\n",
       "      <td>NaN</td>\n",
       "      <td>NaN</td>\n",
       "      <td>NaN</td>\n",
       "      <td>39.486536</td>\n",
       "      <td>NaN</td>\n",
       "      <td>NaN</td>\n",
       "      <td>63.231566</td>\n",
       "      <td>2664961</td>\n",
       "      <td>Indian</td>\n",
       "      <td>39.486536</td>\n",
       "      <td>63.231566</td>\n",
       "      <td>1105.039921</td>\n",
       "    </tr>\n",
       "    <tr>\n",
       "      <th>8285498</th>\n",
       "      <td>Sproul</td>\n",
       "      <td>NaN</td>\n",
       "      <td>NaN</td>\n",
       "      <td>NaN</td>\n",
       "      <td>4.992762</td>\n",
       "      <td>NaN</td>\n",
       "      <td>NaN</td>\n",
       "      <td>17.128939</td>\n",
       "      <td>8285498</td>\n",
       "      <td>Sproul</td>\n",
       "      <td>4.992762</td>\n",
       "      <td>17.128939</td>\n",
       "      <td>201.685417</td>\n",
       "    </tr>\n",
       "  </tbody>\n",
       "</table>\n",
       "</div>"
      ],
      "text/plain": [
       "            LOI  dnLOI  Lat  Lon  Contributing Area  Geomorphic Class  \\\n",
       "2664961  Indian    NaN  NaN  NaN          39.486536               NaN   \n",
       "8285498  Sproul    NaN  NaN  NaN           4.992762               NaN   \n",
       "\n",
       "         Geologic Setting  Mean Annual Flow (cfs)    COMID Outlet LOI  \\\n",
       "2664961               NaN               63.231566  2664961     Indian   \n",
       "8285498               NaN               17.128939  8285498     Sproul   \n",
       "\n",
       "         Contributing Area (mi^2)        MAF          Qbf  \n",
       "2664961                 39.486536  63.231566  1105.039921  \n",
       "8285498                  4.992762  17.128939   201.685417  "
      ]
     },
     "execution_count": 36,
     "metadata": {},
     "output_type": "execute_result"
    }
   ],
   "source": [
    "loitab"
   ]
  },
  {
   "cell_type": "code",
   "execution_count": 37,
   "metadata": {},
   "outputs": [],
   "source": [
    "dailyreqts = pd.DataFrame(index=alldates,columns=loi)  #set up IFT table for WEAP\n",
    "loitab['NCIFP MBF'] = np.zeros_like(loitab['MAF']) #initialize minimum bypass flow metric"
   ]
  },
  {
   "cell_type": "code",
   "execution_count": 38,
   "metadata": {},
   "outputs": [
    {
     "name": "stdout",
     "output_type": "stream",
     "text": [
      "MBF for Indian is: 98.87478779249899\n",
      "MBF for Sproul is: 70.79342267359843\n"
     ]
    },
    {
     "name": "stderr",
     "output_type": "stream",
     "text": [
      "d:\\Users\\kklausmeyer\\AppData\\Local\\Continuum\\anaconda3\\envs\\freshwater\\lib\\site-packages\\pandas\\core\\indexing.py:1027: FutureWarning: \n",
      "Passing list-likes to .loc or [] with any missing label will raise\n",
      "KeyError in the future, you can use .reindex() as an alternative.\n",
      "\n",
      "See the documentation here:\n",
      "https://pandas.pydata.org/pandas-docs/stable/indexing.html#deprecate-loc-reindex-listlike\n",
      "  return getattr(section, self.name)[new_key]\n",
      "d:\\Users\\kklausmeyer\\AppData\\Local\\Continuum\\anaconda3\\envs\\freshwater\\lib\\site-packages\\pandas\\core\\indexing.py:1027: FutureWarning: \n",
      "Passing list-likes to .loc or [] with any missing label will raise\n",
      "KeyError in the future, you can use .reindex() as an alternative.\n",
      "\n",
      "See the documentation here:\n",
      "https://pandas.pydata.org/pandas-docs/stable/indexing.html#deprecate-loc-reindex-listlike\n",
      "  return getattr(section, self.name)[new_key]\n"
     ]
    }
   ],
   "source": [
    "for l in loi: #loop through lcoations\n",
    "    loimaf = loitab.loc[loitab.LOI == l,'MAF'].values[0] #extract LOI mean annual flow\n",
    "    loicta = loitab.loc[loitab.LOI == l,'Contributing Area (mi^2)'].values[0] #extract LOI contributing area\n",
    "    loiqbf = loitab.loc[loitab.LOI == l,'Qbf'].values[0] #extract LOI bankfull flow\n",
    "    loistr = l\n",
    "    unimp = read_loi_paradigm_flow(loistr)\n",
    "    #NCIFP calculations based on bin of Contributing area\n",
    "    if loicta <= 1:\n",
    "        loimbf = 9 * loimaf\n",
    "    elif (loicta > 1) & (loicta < 321):\n",
    "        loimbf = 8.8 * loimaf * loicta ** -0.47\n",
    "    else:\n",
    "        loimbf = 0.6 * loimaf\n",
    "    print(\"MBF for {} is: {}\".format(l,loimbf))\n",
    "    loidiv = loiqbf*0.05 #diversion allocation is 5% of bankfull\n",
    "    loitab.loc[loitab.LOI == l,'NCIFP MBF'] = loimbf #record MBF\n",
    "    unimp['NCIFP div aloc'] = np.zeros_like(unimp['flow'])\n",
    "    unimp['flow above mbf'] = unimp['flow']-loimbf #calculate flow above MBF\n",
    "    unimp.loc[unimp['flow above mbf']>loidiv,'flow above mbf'] = loidiv #allow full diversion amount when there is more than enough flow to divert\n",
    "    #get index of diversion period\n",
    "    divinds = (unimp['flow'] > loimbf) & ((unimp.index.month <= 3) | ((unimp.index.day >= 15) & (unimp.index.month == 12)))\n",
    "    unimp.loc[divinds,'NCIFP div aloc'] = unimp.loc[divinds,'flow above mbf'] #loidiv\n",
    "    unimp['NCIFP flow req'] = unimp['flow'] - unimp['NCIFP div aloc'] #IFT = flow - diversion\n",
    "    dailyreqts.loc[:,loistr] = unimp.loc[dailyreqts.index,'NCIFP flow req']"
   ]
  },
  {
   "cell_type": "code",
   "execution_count": 39,
   "metadata": {},
   "outputs": [],
   "source": [
    "dailyreqts = add_ts_col(dailyreqts)\n",
    "dailyreqts.to_csv(out_csv)"
   ]
  },
  {
   "cell_type": "code",
   "execution_count": null,
   "metadata": {},
   "outputs": [],
   "source": []
  }
 ],
 "metadata": {
  "kernelspec": {
   "display_name": "Python (freshwater)",
   "language": "python",
   "name": "freshwater"
  },
  "language_info": {
   "codemirror_mode": {
    "name": "ipython",
    "version": 3
   },
   "file_extension": ".py",
   "mimetype": "text/x-python",
   "name": "python",
   "nbconvert_exporter": "python",
   "pygments_lexer": "ipython3",
   "version": "3.5.5"
  }
 },
 "nbformat": 4,
 "nbformat_minor": 4
}
