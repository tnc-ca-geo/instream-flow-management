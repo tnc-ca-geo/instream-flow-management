{
 "cells": [
  {
   "cell_type": "code",
   "execution_count": 1,
   "metadata": {},
   "outputs": [],
   "source": [
    "import os\n",
    "import sys\n",
    "import pandas as pd\n",
    "import numpy as np\n",
    "import datetime as dt"
   ]
  },
  {
   "cell_type": "code",
   "execution_count": 2,
   "metadata": {},
   "outputs": [],
   "source": [
    "# Paths, input, and output file names\n",
    "\n",
    "outer_dir = os.path.abspath(os.path.join(os.getcwd() ,\"../..\"))\n",
    "refpth = os.path.join(outer_dir, 'IFT_files', 'Reference Files')\n",
    "sfe_char_csv = os.path.join(refpth, 'TNC SFE LOI Characteristics with MAF.csv')\n",
    "sfe_char_xls= os.path.join(refpth, 'TNC SFE LOI Characteristics.xlsx')\n",
    "subset_xls = os.path.join(refpth, 'TNC Subset SFE LOIs.xlsx')\n",
    "\n",
    "\n",
    "\n",
    "startdir = os.path.join(outer_dir, 'IFT_files', 'IFT Results')\n",
    "mpof1 = os.path.join(startdir, \"All LOI MPOF - Default IFTs.csv\")\n",
    "mpof2 = os.path.join(startdir, \"MPOF Variants\", \"All LOI MPOF - 20% of 10th Percentile Hydrograph, Daily IFTs.csv\")\n",
    "mpof1_start_month = 4\n",
    "mpof1_start_day = 1\n",
    "mpof1_end_month = 12\n",
    "mpof1_end_day = 14\n",
    "out_csv = os.path.join(startdir, 'All LOI MMPOF_TNC.csv')"
   ]
  },
  {
   "cell_type": "code",
   "execution_count": 3,
   "metadata": {},
   "outputs": [],
   "source": [
    "# Set the date range from the mpof1 time series\n",
    "def ts_sub(df):\n",
    "    \"\"\"Adds day, month, and a mpof1 column to the data frame to identify a time range\"\"\"\n",
    "    df['month'] = pd.DatetimeIndex(df['TS']).month\n",
    "    df['day'] = pd.DatetimeIndex(df['TS']).day\n",
    "    df.loc[(df['month'] == mpof1_end_month) & (df['day'] <= mpof1_end_day), 'mpof1'] = 1\n",
    "    df.loc[(df['month'] == mpof1_start_month) & (df['day'] >= mpof1_start_day), 'mpof1'] = 1\n",
    "    df.loc[(df['month'] > mpof1_start_month) & (df['month'] < mpof1_end_month), 'mpof1'] = 1\n",
    "    return df"
   ]
  },
  {
   "cell_type": "code",
   "execution_count": 4,
   "metadata": {},
   "outputs": [],
   "source": [
    "df1 = pd.read_csv(mpof1)\n",
    "df1['TS'] = pd.to_datetime(df1['TS'])"
   ]
  },
  {
   "cell_type": "code",
   "execution_count": 5,
   "metadata": {},
   "outputs": [],
   "source": [
    "df2 = pd.read_csv(mpof2)\n",
    "df2['TS'] = pd.to_datetime(df2['TS'])"
   ]
  },
  {
   "cell_type": "code",
   "execution_count": 6,
   "metadata": {},
   "outputs": [],
   "source": [
    "df1 = ts_sub(df1)\n",
    "df2 = ts_sub(df2)"
   ]
  },
  {
   "cell_type": "code",
   "execution_count": 7,
   "metadata": {
    "scrolled": true
   },
   "outputs": [],
   "source": [
    "# append together\n",
    "df1_sub = df1.loc[df1.mpof1 == 1].copy()\n",
    "df2_sub = df2.loc[~(df2.mpof1 == 1)].copy()\n",
    "df = df1_sub.append(df2_sub, ignore_index=True)\n",
    "df = df.sort_values(by=['TS'], ascending=[True])\n",
    "df = df.drop(['month', 'day', 'mpof1'], axis=1)"
   ]
  },
  {
   "cell_type": "code",
   "execution_count": 8,
   "metadata": {},
   "outputs": [
    {
     "name": "stdout",
     "output_type": "stream",
     "text": [
      "df1 has 25933 records\n",
      "df2 has 25933 records\n",
      "df has 25933 records\n"
     ]
    }
   ],
   "source": [
    "print(\"df1 has {} records\".format(len(df1)))\n",
    "print(\"df2 has {} records\".format(len(df2)))\n",
    "print(\"df has {} records\".format(len(df)))"
   ]
  },
  {
   "cell_type": "code",
   "execution_count": 9,
   "metadata": {},
   "outputs": [],
   "source": [
    "df.to_csv(out_csv, index=False)"
   ]
  },
  {
   "cell_type": "code",
   "execution_count": null,
   "metadata": {},
   "outputs": [],
   "source": []
  }
 ],
 "metadata": {
  "kernelspec": {
   "display_name": "Python (freshwater)",
   "language": "python",
   "name": "freshwater"
  },
  "language_info": {
   "codemirror_mode": {
    "name": "ipython",
    "version": 3
   },
   "file_extension": ".py",
   "mimetype": "text/x-python",
   "name": "python",
   "nbconvert_exporter": "python",
   "pygments_lexer": "ipython3",
   "version": "3.5.5"
  }
 },
 "nbformat": 4,
 "nbformat_minor": 4
}
